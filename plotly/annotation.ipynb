{
 "cells": [
  {
   "cell_type": "markdown",
   "metadata": {},
   "source": [
    "plotly何もわからない\n",
    "\n",
    "複数のsubplotを持っているfigに対して\n",
    "annotationをつけたい。どうすればよいか\n",
    "\n",
    "https://plotly.com/python/text-and-annotations/\n",
    "\n",
    "traceのついでにannotationをつける方法と、\n",
    "独立してtextのannotationをつける方法と、があるよ。って公式ドキュメントが言ってる。\n",
    "\n",
    "\n",
    "で後者の独立したtextの付け方もさらに2通りある？ って、このMediumが言ってる。  \n",
    "https://medium.com/analytics-vidhya/how-can-use-annotations-in-plotly-de6ab8b7d580\n",
    "\n",
    "\n",
    "\n",
    "\"fig.update_layout(annotations=\" で検索すると、そういう用法が出てくるけど、\n",
    "\n",
    "https://plotly.com/python/reference/layout/ の下には引数annotationsが無いんだよなぁ。膨大な一覧なのに。何で???\n"
   ]
  },
  {
   "cell_type": "code",
   "execution_count": null,
   "metadata": {},
   "outputs": [],
   "source": []
  }
 ],
 "metadata": {
  "kernelspec": {
   "display_name": "Python 3",
   "language": "python",
   "name": "python3"
  },
  "language_info": {
   "codemirror_mode": {
    "name": "ipython",
    "version": 3
   },
   "file_extension": ".py",
   "mimetype": "text/x-python",
   "name": "python",
   "nbconvert_exporter": "python",
   "pygments_lexer": "ipython3",
   "version": "3.8.5"
  }
 },
 "nbformat": 4,
 "nbformat_minor": 4
}
