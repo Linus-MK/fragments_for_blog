{
 "cells": [
  {
   "cell_type": "markdown",
   "metadata": {},
   "source": [
    "https://www.dataquest.io/blog/settingwithcopywarning/  \n",
    "の内容を検証するためのNotebook。\n"
   ]
  },
  {
   "cell_type": "markdown",
   "metadata": {},
   "source": [
    "http://www.modelingonlineauctions.com/datasets  \n",
    "の中にある「Xbox 3-day auctions.csv」をダウンロードしたい。  \n",
    "しかし、使用しているOSがWindowsなので、!wget も !curlも使えない。  \n",
    "よってpythonの機能でダウンロードしよう。  \n",
    "……と思ったら、pandasのread_csvにURLを渡してやればできるんだな。簡単な話だった。"
   ]
  },
  {
   "cell_type": "code",
   "execution_count": 1,
   "metadata": {},
   "outputs": [],
   "source": [
    "import pandas as pd"
   ]
  },
  {
   "cell_type": "code",
   "execution_count": 2,
   "metadata": {},
   "outputs": [],
   "source": [
    "csv_file_path = 'xbox-3-day-auctions.csv'\n",
    "\n",
    "if False: # todo: あとで条件を「csvファイルが存在しないときは」にしておこう\n",
    "    url = 'http://www.modelingonlineauctions.com/datasets/Xbox%203-day%20auctions.csv?attredirects=0&d=1'\n",
    "    data = pd.read_csv(url)\n",
    "    data.to_csv(csv_file_path)\n",
    "else:\n",
    "    data = pd.read_csv(csv_file_path)"
   ]
  },
  {
   "cell_type": "code",
   "execution_count": 3,
   "metadata": {},
   "outputs": [
    {
     "data": {
      "text/html": [
       "<div>\n",
       "<style scoped>\n",
       "    .dataframe tbody tr th:only-of-type {\n",
       "        vertical-align: middle;\n",
       "    }\n",
       "\n",
       "    .dataframe tbody tr th {\n",
       "        vertical-align: top;\n",
       "    }\n",
       "\n",
       "    .dataframe thead th {\n",
       "        text-align: right;\n",
       "    }\n",
       "</style>\n",
       "<table border=\"1\" class=\"dataframe\">\n",
       "  <thead>\n",
       "    <tr style=\"text-align: right;\">\n",
       "      <th></th>\n",
       "      <th>Unnamed: 0</th>\n",
       "      <th>auctionid</th>\n",
       "      <th>bid</th>\n",
       "      <th>bidtime</th>\n",
       "      <th>bidder</th>\n",
       "      <th>bidderrate</th>\n",
       "      <th>openbid</th>\n",
       "      <th>price</th>\n",
       "    </tr>\n",
       "  </thead>\n",
       "  <tbody>\n",
       "    <tr>\n",
       "      <th>0</th>\n",
       "      <td>0</td>\n",
       "      <td>8213034705</td>\n",
       "      <td>95.0</td>\n",
       "      <td>2.927373</td>\n",
       "      <td>jake7870</td>\n",
       "      <td>0</td>\n",
       "      <td>95.0</td>\n",
       "      <td>117.5</td>\n",
       "    </tr>\n",
       "    <tr>\n",
       "      <th>1</th>\n",
       "      <td>1</td>\n",
       "      <td>8213034705</td>\n",
       "      <td>115.0</td>\n",
       "      <td>2.943484</td>\n",
       "      <td>davidbresler2</td>\n",
       "      <td>1</td>\n",
       "      <td>95.0</td>\n",
       "      <td>117.5</td>\n",
       "    </tr>\n",
       "    <tr>\n",
       "      <th>2</th>\n",
       "      <td>2</td>\n",
       "      <td>8213034705</td>\n",
       "      <td>100.0</td>\n",
       "      <td>2.951285</td>\n",
       "      <td>gladimacowgirl</td>\n",
       "      <td>58</td>\n",
       "      <td>95.0</td>\n",
       "      <td>117.5</td>\n",
       "    </tr>\n",
       "    <tr>\n",
       "      <th>3</th>\n",
       "      <td>3</td>\n",
       "      <td>8213034705</td>\n",
       "      <td>117.5</td>\n",
       "      <td>2.998947</td>\n",
       "      <td>daysrus</td>\n",
       "      <td>10</td>\n",
       "      <td>95.0</td>\n",
       "      <td>117.5</td>\n",
       "    </tr>\n",
       "    <tr>\n",
       "      <th>4</th>\n",
       "      <td>4</td>\n",
       "      <td>8213060420</td>\n",
       "      <td>2.0</td>\n",
       "      <td>0.065266</td>\n",
       "      <td>donnie4814</td>\n",
       "      <td>5</td>\n",
       "      <td>1.0</td>\n",
       "      <td>120.0</td>\n",
       "    </tr>\n",
       "  </tbody>\n",
       "</table>\n",
       "</div>"
      ],
      "text/plain": [
       "   Unnamed: 0   auctionid    bid   bidtime          bidder  bidderrate  \\\n",
       "0           0  8213034705   95.0  2.927373        jake7870           0   \n",
       "1           1  8213034705  115.0  2.943484   davidbresler2           1   \n",
       "2           2  8213034705  100.0  2.951285  gladimacowgirl          58   \n",
       "3           3  8213034705  117.5  2.998947         daysrus          10   \n",
       "4           4  8213060420    2.0  0.065266      donnie4814           5   \n",
       "\n",
       "   openbid  price  \n",
       "0     95.0  117.5  \n",
       "1     95.0  117.5  \n",
       "2     95.0  117.5  \n",
       "3     95.0  117.5  \n",
       "4      1.0  120.0  "
      ]
     },
     "execution_count": 3,
     "metadata": {},
     "output_type": "execute_result"
    }
   ],
   "source": [
    "data.head()"
   ]
  },
  {
   "cell_type": "markdown",
   "metadata": {},
   "source": [
    "# Chained Assignment"
   ]
  },
  {
   "cell_type": "code",
   "execution_count": 4,
   "metadata": {},
   "outputs": [
    {
     "data": {
      "text/html": [
       "<div>\n",
       "<style scoped>\n",
       "    .dataframe tbody tr th:only-of-type {\n",
       "        vertical-align: middle;\n",
       "    }\n",
       "\n",
       "    .dataframe tbody tr th {\n",
       "        vertical-align: top;\n",
       "    }\n",
       "\n",
       "    .dataframe thead th {\n",
       "        text-align: right;\n",
       "    }\n",
       "</style>\n",
       "<table border=\"1\" class=\"dataframe\">\n",
       "  <thead>\n",
       "    <tr style=\"text-align: right;\">\n",
       "      <th></th>\n",
       "      <th>Unnamed: 0</th>\n",
       "      <th>auctionid</th>\n",
       "      <th>bid</th>\n",
       "      <th>bidtime</th>\n",
       "      <th>bidder</th>\n",
       "      <th>bidderrate</th>\n",
       "      <th>openbid</th>\n",
       "      <th>price</th>\n",
       "    </tr>\n",
       "  </thead>\n",
       "  <tbody>\n",
       "    <tr>\n",
       "      <th>6</th>\n",
       "      <td>6</td>\n",
       "      <td>8213060420</td>\n",
       "      <td>3.00</td>\n",
       "      <td>0.186539</td>\n",
       "      <td>parakeet2004</td>\n",
       "      <td>5</td>\n",
       "      <td>1.0</td>\n",
       "      <td>120.0</td>\n",
       "    </tr>\n",
       "    <tr>\n",
       "      <th>7</th>\n",
       "      <td>7</td>\n",
       "      <td>8213060420</td>\n",
       "      <td>10.00</td>\n",
       "      <td>0.186690</td>\n",
       "      <td>parakeet2004</td>\n",
       "      <td>5</td>\n",
       "      <td>1.0</td>\n",
       "      <td>120.0</td>\n",
       "    </tr>\n",
       "    <tr>\n",
       "      <th>8</th>\n",
       "      <td>8</td>\n",
       "      <td>8213060420</td>\n",
       "      <td>24.99</td>\n",
       "      <td>0.187049</td>\n",
       "      <td>parakeet2004</td>\n",
       "      <td>5</td>\n",
       "      <td>1.0</td>\n",
       "      <td>120.0</td>\n",
       "    </tr>\n",
       "  </tbody>\n",
       "</table>\n",
       "</div>"
      ],
      "text/plain": [
       "   Unnamed: 0   auctionid    bid   bidtime        bidder  bidderrate  openbid  \\\n",
       "6           6  8213060420   3.00  0.186539  parakeet2004           5      1.0   \n",
       "7           7  8213060420  10.00  0.186690  parakeet2004           5      1.0   \n",
       "8           8  8213060420  24.99  0.187049  parakeet2004           5      1.0   \n",
       "\n",
       "   price  \n",
       "6  120.0  \n",
       "7  120.0  \n",
       "8  120.0  "
      ]
     },
     "execution_count": 4,
     "metadata": {},
     "output_type": "execute_result"
    }
   ],
   "source": [
    "data[data['bidder'] == 'parakeet2004']"
   ]
  },
  {
   "cell_type": "code",
   "execution_count": 5,
   "metadata": {},
   "outputs": [
    {
     "name": "stderr",
     "output_type": "stream",
     "text": [
      "c:\\program files\\python37\\lib\\site-packages\\ipykernel_launcher.py:1: SettingWithCopyWarning: \n",
      "A value is trying to be set on a copy of a slice from a DataFrame.\n",
      "Try using .loc[row_indexer,col_indexer] = value instead\n",
      "\n",
      "See the caveats in the documentation: http://pandas.pydata.org/pandas-docs/stable/indexing.html#indexing-view-versus-copy\n",
      "  \"\"\"Entry point for launching an IPython kernel.\n"
     ]
    }
   ],
   "source": [
    "data[data['bidder'] == 'parakeet2004']['bidderrate'] = 100"
   ]
  },
  {
   "cell_type": "markdown",
   "metadata": {},
   "source": [
    "**SettingWithCopyWarning** が発生した。  \n",
    "今回の場合、元の表の値は変わっていない。"
   ]
  },
  {
   "cell_type": "code",
   "execution_count": 6,
   "metadata": {},
   "outputs": [
    {
     "data": {
      "text/html": [
       "<div>\n",
       "<style scoped>\n",
       "    .dataframe tbody tr th:only-of-type {\n",
       "        vertical-align: middle;\n",
       "    }\n",
       "\n",
       "    .dataframe tbody tr th {\n",
       "        vertical-align: top;\n",
       "    }\n",
       "\n",
       "    .dataframe thead th {\n",
       "        text-align: right;\n",
       "    }\n",
       "</style>\n",
       "<table border=\"1\" class=\"dataframe\">\n",
       "  <thead>\n",
       "    <tr style=\"text-align: right;\">\n",
       "      <th></th>\n",
       "      <th>Unnamed: 0</th>\n",
       "      <th>auctionid</th>\n",
       "      <th>bid</th>\n",
       "      <th>bidtime</th>\n",
       "      <th>bidder</th>\n",
       "      <th>bidderrate</th>\n",
       "      <th>openbid</th>\n",
       "      <th>price</th>\n",
       "    </tr>\n",
       "  </thead>\n",
       "  <tbody>\n",
       "    <tr>\n",
       "      <th>6</th>\n",
       "      <td>6</td>\n",
       "      <td>8213060420</td>\n",
       "      <td>3.00</td>\n",
       "      <td>0.186539</td>\n",
       "      <td>parakeet2004</td>\n",
       "      <td>5</td>\n",
       "      <td>1.0</td>\n",
       "      <td>120.0</td>\n",
       "    </tr>\n",
       "    <tr>\n",
       "      <th>7</th>\n",
       "      <td>7</td>\n",
       "      <td>8213060420</td>\n",
       "      <td>10.00</td>\n",
       "      <td>0.186690</td>\n",
       "      <td>parakeet2004</td>\n",
       "      <td>5</td>\n",
       "      <td>1.0</td>\n",
       "      <td>120.0</td>\n",
       "    </tr>\n",
       "    <tr>\n",
       "      <th>8</th>\n",
       "      <td>8</td>\n",
       "      <td>8213060420</td>\n",
       "      <td>24.99</td>\n",
       "      <td>0.187049</td>\n",
       "      <td>parakeet2004</td>\n",
       "      <td>5</td>\n",
       "      <td>1.0</td>\n",
       "      <td>120.0</td>\n",
       "    </tr>\n",
       "  </tbody>\n",
       "</table>\n",
       "</div>"
      ],
      "text/plain": [
       "   Unnamed: 0   auctionid    bid   bidtime        bidder  bidderrate  openbid  \\\n",
       "6           6  8213060420   3.00  0.186539  parakeet2004           5      1.0   \n",
       "7           7  8213060420  10.00  0.186690  parakeet2004           5      1.0   \n",
       "8           8  8213060420  24.99  0.187049  parakeet2004           5      1.0   \n",
       "\n",
       "   price  \n",
       "6  120.0  \n",
       "7  120.0  \n",
       "8  120.0  "
      ]
     },
     "execution_count": 6,
     "metadata": {},
     "output_type": "execute_result"
    }
   ],
   "source": [
    "data[data['bidder'] == 'parakeet2004']"
   ]
  },
  {
   "cell_type": "code",
   "execution_count": null,
   "metadata": {},
   "outputs": [],
   "source": []
  }
 ],
 "metadata": {
  "kernelspec": {
   "display_name": "Python 3",
   "language": "python",
   "name": "python3"
  },
  "language_info": {
   "codemirror_mode": {
    "name": "ipython",
    "version": 3
   },
   "file_extension": ".py",
   "mimetype": "text/x-python",
   "name": "python",
   "nbconvert_exporter": "python",
   "pygments_lexer": "ipython3",
   "version": "3.7.1"
  }
 },
 "nbformat": 4,
 "nbformat_minor": 2
}
