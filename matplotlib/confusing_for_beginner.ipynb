{
 "cells": [
  {
   "cell_type": "markdown",
   "metadata": {},
   "source": [
    "2021年3月10日\n",
    "\n",
    "今日久しぶりにmatplotlibをいじったら、  \n",
    "やっぱりわかりにくくて死ぬ……やりづらい……辛い……となった。\n",
    "\n",
    "https://twitter.com/Linus_MK/status/1369617567787094018\n",
    "\n",
    "pandasとかnumpyは、自分の知識の範囲を少しずつでも広げられている実感がある。例えば、このブログの過去の記事をいくつか見てみると\n",
    "\n",
    "- [pandasのsettingwithcopywarningについては分かったぞ](https://linus-mk.hatenablog.com/entry/2019/02/02/200000)\n",
    "- [pandasのdtypeについては分かったぞ](https://linus-mk.hatenablog.com/entry/2019/11/23/162709)\n",
    "- [pandasでのmergeとjoinの違いについては分かったぞ](https://linus-mk.hatenablog.com/entry/pnadas_valueerror_len_left_on)\n",
    "- [numpyのndarrayとarrayの違いについては分かったぞ](https://linus-mk.hatenablog.com/entry/numpy_array_ndarray_difference)\n",
    "\n",
    "このあたりか。やっぱりブログにまとめると知識がしっかり定着するなぁ。\n",
    "もちろんpandas/numpyについて全てを知ることは到底無理だけど、一部については「少なくともここについては確固たる知識を習得できた」という自信がある。\n",
    "\n",
    "でもmatplotlibについては、\n",
    "\n",
    "- 2つのインターフェース\n",
    "- ArtistとかFigureとかAxesとかその辺\n",
    "\n",
    "が分からないと、何も始まらないような間隔がある。\n",
    "土台が固まっていないところの上に何の知識を積んでも砂上の楼閣になりそうというか。  \n",
    "賽の河原みたいに、知識をいくら積み重ねたところですぐ吹き飛ばされそうというか。  \n",
    "初手が厳しい……   \n",
    "譬えて言えば、「はい、ここがスタート地点です。先に進むにはまず3メートルの壁をよじ登って乗り越えてください。それ以外の方法では次に進めません」みたいな感じ。"
   ]
  },
  {
   "cell_type": "markdown",
   "metadata": {},
   "source": [
    "## 英語で書かれたPythonブログでこの辺はどう論じられてきたか\n",
    "\n",
    "入れてみた検索ワード\n",
    "- why matplotlib is hard to understand\n",
    "- matplotlib confusing\n",
    "\n",
    "https://pbpython.com/effective-matplotlib.html\n",
    "\n",
    "Why all the negativity towards matplotlib? 以下で、matplotlibが分かりにくい3つの理由がある。\n",
    "\n",
    "1. matplotlib has two interfaces.\n",
    "2. some of the default style choices were rather unattractive. \n",
    "3. there is confusion as to when you should use pure matplotlib to plot something vs. a tool like pandas or seaborn that is built on top of matplotlib.\n",
    "\n",
    "https://stackoverflow.com/questions/35677767/understanding-matplotlib-plt-figure-axarr\n",
    "\n",
    "Understanding matplotlib: plt, figure, ax(arr)?\n",
    "\n",
    "> The matplotlib documentation is rather confusing to me. When one searches something really specific, like rescaling a legend, different plot markers and colors and so on the official documentation is really precise but rather general information is not that good in my opinion. Too much different examples, no real explanations of the purposes...looks more or less like a big listing of all possible API methods and arguments.\n",
    "\n",
    "https://realpython.com/python-matplotlib-guide/\n",
    "\n",
    "Why Can Matplotlib Be Confusing?\n",
    "\n",
    "1. The library itself is huge, at something like 70,000 total lines of code.\n",
    "2. Matplotlib is home to several different interfaces (ways of constructing a figure) and capable of interacting with a handful of different backends. (Backends deal with the process of how charts are actually rendered, not just structured internally.)\n",
    "3. While it is comprehensive, some of matplotlib’s own public documentation is seriously out-of-date. The library is still evolving, and many older examples floating around online may take 70% fewer lines of code in their modern version.\n"
   ]
  },
  {
   "cell_type": "code",
   "execution_count": null,
   "metadata": {},
   "outputs": [],
   "source": []
  }
 ],
 "metadata": {
  "kernelspec": {
   "display_name": "Python 3",
   "language": "python",
   "name": "python3"
  },
  "language_info": {
   "codemirror_mode": {
    "name": "ipython",
    "version": 3
   },
   "file_extension": ".py",
   "mimetype": "text/x-python",
   "name": "python",
   "nbconvert_exporter": "python",
   "pygments_lexer": "ipython3",
   "version": "3.8.5"
  }
 },
 "nbformat": 4,
 "nbformat_minor": 4
}
