{
 "cells": [
  {
   "cell_type": "markdown",
   "metadata": {},
   "source": [
    "https://mobaku.jp/covid-19/  \n",
    "の人口変動分析を可視化したい。\n",
    "\n",
    "```\n",
    "モバイル空間統計では全国主要エリアの15時時点の人口増減率を日次で掲載します。\n",
    "各都道府県から特定地域の増減率、およびその関連データをダウンロードすることができます。（毎日19時頃更新）\n",
    "```"
   ]
  },
  {
   "cell_type": "code",
   "execution_count": 1,
   "metadata": {},
   "outputs": [],
   "source": [
    "import pandas as pd\n",
    "import matplotlib.pyplot as plt"
   ]
  },
  {
   "cell_type": "code",
   "execution_count": 2,
   "metadata": {},
   "outputs": [],
   "source": [
    "df = pd.read_csv('https://mobaku.jp/covid-19/download/%E5%A2%97%E6%B8%9B%E7%8E%87%E4%B8%80%E8%A6%A7.csv', encoding='sjis')"
   ]
  },
  {
   "cell_type": "code",
   "execution_count": 3,
   "metadata": {},
   "outputs": [],
   "source": [
    "df.rename(columns={\n",
    "     '各日15時時点増減率(%)' : '比率種別'\n",
    "}, inplace=True)"
   ]
  },
  {
   "cell_type": "code",
   "execution_count": 4,
   "metadata": {},
   "outputs": [
    {
     "data": {
      "text/html": [
       "<div>\n",
       "<style scoped>\n",
       "    .dataframe tbody tr th:only-of-type {\n",
       "        vertical-align: middle;\n",
       "    }\n",
       "\n",
       "    .dataframe tbody tr th {\n",
       "        vertical-align: top;\n",
       "    }\n",
       "\n",
       "    .dataframe thead th {\n",
       "        text-align: right;\n",
       "    }\n",
       "</style>\n",
       "<table border=\"1\" class=\"dataframe\">\n",
       "  <thead>\n",
       "    <tr style=\"text-align: right;\">\n",
       "      <th></th>\n",
       "      <th>エリア</th>\n",
       "      <th>メッシュ</th>\n",
       "      <th>比率種別</th>\n",
       "      <th>2020/05/01</th>\n",
       "      <th>2020/05/02</th>\n",
       "      <th>2020/05/03</th>\n",
       "      <th>2020/05/04</th>\n",
       "      <th>2020/05/05</th>\n",
       "      <th>2020/05/06</th>\n",
       "      <th>2020/05/07</th>\n",
       "      <th>...</th>\n",
       "      <th>2021/07/04</th>\n",
       "      <th>2021/07/05</th>\n",
       "      <th>2021/07/06</th>\n",
       "      <th>2021/07/07</th>\n",
       "      <th>2021/07/08</th>\n",
       "      <th>2021/07/09</th>\n",
       "      <th>2021/07/10</th>\n",
       "      <th>2021/07/11</th>\n",
       "      <th>2021/07/12</th>\n",
       "      <th>2021/07/13</th>\n",
       "    </tr>\n",
       "  </thead>\n",
       "  <tbody>\n",
       "    <tr>\n",
       "      <th>0</th>\n",
       "      <td>北海道 札幌駅</td>\n",
       "      <td>644142881</td>\n",
       "      <td>感染拡大前比</td>\n",
       "      <td>-58.0</td>\n",
       "      <td>-74.0</td>\n",
       "      <td>-78.0</td>\n",
       "      <td>-74.8</td>\n",
       "      <td>-75.0</td>\n",
       "      <td>-74.9</td>\n",
       "      <td>-54.8</td>\n",
       "      <td>...</td>\n",
       "      <td>-1.1</td>\n",
       "      <td>-10.4</td>\n",
       "      <td>-12.9</td>\n",
       "      <td>-10.4</td>\n",
       "      <td>-10.0</td>\n",
       "      <td>-4.4</td>\n",
       "      <td>13.6</td>\n",
       "      <td>0.8</td>\n",
       "      <td>-5.4</td>\n",
       "      <td>-9.1</td>\n",
       "    </tr>\n",
       "    <tr>\n",
       "      <th>1</th>\n",
       "      <td>北海道 札幌駅</td>\n",
       "      <td>644142881</td>\n",
       "      <td>緊急事態宣言前比</td>\n",
       "      <td>-54.4</td>\n",
       "      <td>-75.4</td>\n",
       "      <td>-79.2</td>\n",
       "      <td>-76.2</td>\n",
       "      <td>-76.3</td>\n",
       "      <td>-76.2</td>\n",
       "      <td>-50.9</td>\n",
       "      <td>...</td>\n",
       "      <td>-6.4</td>\n",
       "      <td>-2.6</td>\n",
       "      <td>-5.3</td>\n",
       "      <td>-2.6</td>\n",
       "      <td>-2.2</td>\n",
       "      <td>3.9</td>\n",
       "      <td>7.5</td>\n",
       "      <td>-4.6</td>\n",
       "      <td>2.9</td>\n",
       "      <td>-1.2</td>\n",
       "    </tr>\n",
       "    <tr>\n",
       "      <th>2</th>\n",
       "      <td>北海道 札幌駅</td>\n",
       "      <td>644142881</td>\n",
       "      <td>前年同月比</td>\n",
       "      <td>-62.5</td>\n",
       "      <td>-79.8</td>\n",
       "      <td>-82.9</td>\n",
       "      <td>-80.4</td>\n",
       "      <td>-80.6</td>\n",
       "      <td>-80.5</td>\n",
       "      <td>-59.6</td>\n",
       "      <td>...</td>\n",
       "      <td>-5.3</td>\n",
       "      <td>-2.8</td>\n",
       "      <td>-5.4</td>\n",
       "      <td>-2.8</td>\n",
       "      <td>-2.3</td>\n",
       "      <td>3.8</td>\n",
       "      <td>8.7</td>\n",
       "      <td>-3.5</td>\n",
       "      <td>2.7</td>\n",
       "      <td>-1.4</td>\n",
       "    </tr>\n",
       "    <tr>\n",
       "      <th>3</th>\n",
       "      <td>北海道 札幌駅</td>\n",
       "      <td>644142881</td>\n",
       "      <td>前日比</td>\n",
       "      <td>-2.2</td>\n",
       "      <td>-46.1</td>\n",
       "      <td>-15.4</td>\n",
       "      <td>14.5</td>\n",
       "      <td>-0.7</td>\n",
       "      <td>0.4</td>\n",
       "      <td>106.9</td>\n",
       "      <td>...</td>\n",
       "      <td>-10.7</td>\n",
       "      <td>4.0</td>\n",
       "      <td>-2.7</td>\n",
       "      <td>2.8</td>\n",
       "      <td>0.5</td>\n",
       "      <td>6.2</td>\n",
       "      <td>3.5</td>\n",
       "      <td>-11.2</td>\n",
       "      <td>7.8</td>\n",
       "      <td>-4.0</td>\n",
       "    </tr>\n",
       "    <tr>\n",
       "      <th>4</th>\n",
       "      <td>北海道 すすきの</td>\n",
       "      <td>644142683</td>\n",
       "      <td>感染拡大前比</td>\n",
       "      <td>-50.6</td>\n",
       "      <td>-64.4</td>\n",
       "      <td>-71.4</td>\n",
       "      <td>-72.5</td>\n",
       "      <td>-71.9</td>\n",
       "      <td>-71.0</td>\n",
       "      <td>-48.7</td>\n",
       "      <td>...</td>\n",
       "      <td>-34.5</td>\n",
       "      <td>-30.3</td>\n",
       "      <td>-30.9</td>\n",
       "      <td>-28.7</td>\n",
       "      <td>-29.0</td>\n",
       "      <td>-24.9</td>\n",
       "      <td>-23.9</td>\n",
       "      <td>-35.3</td>\n",
       "      <td>-28.0</td>\n",
       "      <td>-29.7</td>\n",
       "    </tr>\n",
       "  </tbody>\n",
       "</table>\n",
       "<p>5 rows × 442 columns</p>\n",
       "</div>"
      ],
      "text/plain": [
       "        エリア       メッシュ      比率種別  2020/05/01  2020/05/02  2020/05/03  \\\n",
       "0   北海道 札幌駅  644142881    感染拡大前比       -58.0       -74.0       -78.0   \n",
       "1   北海道 札幌駅  644142881  緊急事態宣言前比       -54.4       -75.4       -79.2   \n",
       "2   北海道 札幌駅  644142881     前年同月比       -62.5       -79.8       -82.9   \n",
       "3   北海道 札幌駅  644142881       前日比        -2.2       -46.1       -15.4   \n",
       "4  北海道 すすきの  644142683    感染拡大前比       -50.6       -64.4       -71.4   \n",
       "\n",
       "   2020/05/04  2020/05/05  2020/05/06  2020/05/07  ...  2021/07/04  \\\n",
       "0       -74.8       -75.0       -74.9       -54.8  ...        -1.1   \n",
       "1       -76.2       -76.3       -76.2       -50.9  ...        -6.4   \n",
       "2       -80.4       -80.6       -80.5       -59.6  ...        -5.3   \n",
       "3        14.5        -0.7         0.4       106.9  ...       -10.7   \n",
       "4       -72.5       -71.9       -71.0       -48.7  ...       -34.5   \n",
       "\n",
       "   2021/07/05  2021/07/06  2021/07/07  2021/07/08  2021/07/09  2021/07/10  \\\n",
       "0       -10.4       -12.9       -10.4       -10.0        -4.4        13.6   \n",
       "1        -2.6        -5.3        -2.6        -2.2         3.9         7.5   \n",
       "2        -2.8        -5.4        -2.8        -2.3         3.8         8.7   \n",
       "3         4.0        -2.7         2.8         0.5         6.2         3.5   \n",
       "4       -30.3       -30.9       -28.7       -29.0       -24.9       -23.9   \n",
       "\n",
       "   2021/07/11  2021/07/12  2021/07/13  \n",
       "0         0.8        -5.4        -9.1  \n",
       "1        -4.6         2.9        -1.2  \n",
       "2        -3.5         2.7        -1.4  \n",
       "3       -11.2         7.8        -4.0  \n",
       "4       -35.3       -28.0       -29.7  \n",
       "\n",
       "[5 rows x 442 columns]"
      ]
     },
     "execution_count": 4,
     "metadata": {},
     "output_type": "execute_result"
    }
   ],
   "source": [
    "df.head()"
   ]
  },
  {
   "cell_type": "markdown",
   "metadata": {},
   "source": [
    "### あ\n",
    "\n",
    "銀座とか（平日と休日が大きく違うスポット）がわかりやすい\n",
    "\n",
    "* 感染拡大前比：感染拡大前の一定値に対する比率。平日休日の区別あり。\n",
    "* 緊急事態宣言前比：平日休日の区別なし。\n"
   ]
  },
  {
   "cell_type": "code",
   "execution_count": 5,
   "metadata": {},
   "outputs": [
    {
     "data": {
      "text/html": [
       "<div>\n",
       "<style scoped>\n",
       "    .dataframe tbody tr th:only-of-type {\n",
       "        vertical-align: middle;\n",
       "    }\n",
       "\n",
       "    .dataframe tbody tr th {\n",
       "        vertical-align: top;\n",
       "    }\n",
       "\n",
       "    .dataframe thead th {\n",
       "        text-align: right;\n",
       "    }\n",
       "</style>\n",
       "<table border=\"1\" class=\"dataframe\">\n",
       "  <thead>\n",
       "    <tr style=\"text-align: right;\">\n",
       "      <th></th>\n",
       "      <th>エリア</th>\n",
       "      <th>メッシュ</th>\n",
       "      <th>比率種別</th>\n",
       "      <th>2020/05/01</th>\n",
       "      <th>2020/05/02</th>\n",
       "      <th>2020/05/03</th>\n",
       "      <th>2020/05/04</th>\n",
       "      <th>2020/05/05</th>\n",
       "      <th>2020/05/06</th>\n",
       "      <th>2020/05/07</th>\n",
       "      <th>...</th>\n",
       "      <th>2021/07/04</th>\n",
       "      <th>2021/07/05</th>\n",
       "      <th>2021/07/06</th>\n",
       "      <th>2021/07/07</th>\n",
       "      <th>2021/07/08</th>\n",
       "      <th>2021/07/09</th>\n",
       "      <th>2021/07/10</th>\n",
       "      <th>2021/07/11</th>\n",
       "      <th>2021/07/12</th>\n",
       "      <th>2021/07/13</th>\n",
       "    </tr>\n",
       "  </thead>\n",
       "  <tbody>\n",
       "    <tr>\n",
       "      <th>117</th>\n",
       "      <td>東京都 新宿駅</td>\n",
       "      <td>533945263</td>\n",
       "      <td>緊急事態宣言前比</td>\n",
       "      <td>-55.8</td>\n",
       "      <td>-68.0</td>\n",
       "      <td>-73.6</td>\n",
       "      <td>-72.3</td>\n",
       "      <td>-72.0</td>\n",
       "      <td>-71.8</td>\n",
       "      <td>-47.2</td>\n",
       "      <td>...</td>\n",
       "      <td>44.3</td>\n",
       "      <td>26.6</td>\n",
       "      <td>30.1</td>\n",
       "      <td>31.0</td>\n",
       "      <td>26.4</td>\n",
       "      <td>33.6</td>\n",
       "      <td>68.6</td>\n",
       "      <td>54.3</td>\n",
       "      <td>27.2</td>\n",
       "      <td>26.4</td>\n",
       "    </tr>\n",
       "  </tbody>\n",
       "</table>\n",
       "<p>1 rows × 442 columns</p>\n",
       "</div>"
      ],
      "text/plain": [
       "         エリア       メッシュ      比率種別  2020/05/01  2020/05/02  2020/05/03  \\\n",
       "117  東京都 新宿駅  533945263  緊急事態宣言前比       -55.8       -68.0       -73.6   \n",
       "\n",
       "     2020/05/04  2020/05/05  2020/05/06  2020/05/07  ...  2021/07/04  \\\n",
       "117       -72.3       -72.0       -71.8       -47.2  ...        44.3   \n",
       "\n",
       "     2021/07/05  2021/07/06  2021/07/07  2021/07/08  2021/07/09  2021/07/10  \\\n",
       "117        26.6        30.1        31.0        26.4        33.6        68.6   \n",
       "\n",
       "     2021/07/11  2021/07/12  2021/07/13  \n",
       "117        54.3        27.2        26.4  \n",
       "\n",
       "[1 rows x 442 columns]"
      ]
     },
     "execution_count": 5,
     "metadata": {},
     "output_type": "execute_result"
    }
   ],
   "source": [
    "df.query('エリア == \"東京都 新宿駅\" & 比率種別 == \"緊急事態宣言前比\"')"
   ]
  },
  {
   "cell_type": "code",
   "execution_count": 6,
   "metadata": {},
   "outputs": [],
   "source": [
    "te = df.query('エリア == \"東京都 新宿駅\" & 比率種別 == \"緊急事態宣言前比\"')"
   ]
  },
  {
   "cell_type": "code",
   "execution_count": 7,
   "metadata": {},
   "outputs": [],
   "source": [
    "teee = te.iloc[0]"
   ]
  },
  {
   "cell_type": "code",
   "execution_count": 8,
   "metadata": {},
   "outputs": [],
   "source": [
    "teeeee = list(teee)[-70:]"
   ]
  },
  {
   "cell_type": "code",
   "execution_count": 9,
   "metadata": {},
   "outputs": [
    {
     "data": {
      "text/plain": [
       "[<matplotlib.lines.Line2D at 0x11ef91f70>]"
      ]
     },
     "execution_count": 9,
     "metadata": {},
     "output_type": "execute_result"
    },
    {
     "data": {
      "image/png": "[encoded data removed]",
      "text/plain": [
       "<Figure size 432x288 with 1 Axes>"
      ]
     },
     "metadata": {
      "needs_background": "light"
     },
     "output_type": "display_data"
    }
   ],
   "source": [
    "plt.plot(teeeee)"
   ]
  },
  {
   "cell_type": "code",
   "execution_count": null,
   "metadata": {},
   "outputs": [],
   "source": []
  }
 ],
 "metadata": {
  "kernelspec": {
   "display_name": "Python 3",
   "language": "python",
   "name": "python3"
  },
  "language_info": {
   "codemirror_mode": {
    "name": "ipython",
    "version": 3
   },
   "file_extension": ".py",
   "mimetype": "text/x-python",
   "name": "python",
   "nbconvert_exporter": "python",
   "pygments_lexer": "ipython3",
   "version": "3.8.5"
  }
 },
 "nbformat": 4,
 "nbformat_minor": 4
}
