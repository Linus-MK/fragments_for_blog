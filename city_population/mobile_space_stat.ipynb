{
 "cells": [
  {
   "cell_type": "markdown",
   "metadata": {},
   "source": [
    "https://mobaku.jp/covid-19/  \n",
    "の人口変動分析を可視化したい。\n",
    "\n",
    "```\n",
    "モバイル空間統計では全国主要エリアの15時時点の人口増減率を日次で掲載します。\n",
    "各都道府県から特定地域の増減率、およびその関連データをダウンロードすることができます。（毎日19時頃更新）\n",
    "```"
   ]
  },
  {
   "cell_type": "code",
   "execution_count": 1,
   "metadata": {},
   "outputs": [
    {
     "name": "stderr",
     "output_type": "stream",
     "text": [
      "Duplicate key in file PosixPath('/usr/local/lib/python3.8/site-packages/matplotlib/mpl-data/matplotlibrc'), line 258 ('font.family : Hiragino sans')\n"
     ]
    }
   ],
   "source": [
    "import datetime\n",
    "import pandas as pd\n",
    "import matplotlib.pyplot as plt"
   ]
  },
  {
   "cell_type": "code",
   "execution_count": 2,
   "metadata": {},
   "outputs": [],
   "source": [
    "df = pd.read_csv('https://mobaku.jp/covid-19/download/%E5%A2%97%E6%B8%9B%E7%8E%87%E4%B8%80%E8%A6%A7.csv', encoding='sjis')\n"
   ]
  },
  {
   "cell_type": "code",
   "execution_count": 3,
   "metadata": {},
   "outputs": [],
   "source": [
    "df.rename(columns={\n",
    "     '各日15時時点増減率(%)' : '比率種別'\n",
    "}, inplace=True)"
   ]
  },
  {
   "cell_type": "code",
   "execution_count": 4,
   "metadata": {},
   "outputs": [
    {
     "data": {
      "text/html": [
       "<div>\n",
       "<style scoped>\n",
       "    .dataframe tbody tr th:only-of-type {\n",
       "        vertical-align: middle;\n",
       "    }\n",
       "\n",
       "    .dataframe tbody tr th {\n",
       "        vertical-align: top;\n",
       "    }\n",
       "\n",
       "    .dataframe thead th {\n",
       "        text-align: right;\n",
       "    }\n",
       "</style>\n",
       "<table border=\"1\" class=\"dataframe\">\n",
       "  <thead>\n",
       "    <tr style=\"text-align: right;\">\n",
       "      <th></th>\n",
       "      <th>エリア</th>\n",
       "      <th>メッシュ</th>\n",
       "      <th>比率種別</th>\n",
       "      <th>2020/05/01</th>\n",
       "      <th>2020/05/02</th>\n",
       "      <th>2020/05/03</th>\n",
       "      <th>2020/05/04</th>\n",
       "      <th>2020/05/05</th>\n",
       "      <th>2020/05/06</th>\n",
       "      <th>2020/05/07</th>\n",
       "      <th>...</th>\n",
       "      <th>2021/07/12</th>\n",
       "      <th>2021/07/13</th>\n",
       "      <th>2021/07/14</th>\n",
       "      <th>2021/07/15</th>\n",
       "      <th>2021/07/16</th>\n",
       "      <th>2021/07/17</th>\n",
       "      <th>2021/07/18</th>\n",
       "      <th>2021/07/19</th>\n",
       "      <th>2021/07/20</th>\n",
       "      <th>2021/07/21</th>\n",
       "    </tr>\n",
       "  </thead>\n",
       "  <tbody>\n",
       "    <tr>\n",
       "      <th>0</th>\n",
       "      <td>北海道 札幌駅</td>\n",
       "      <td>644142881</td>\n",
       "      <td>感染拡大前比</td>\n",
       "      <td>-58.0</td>\n",
       "      <td>-74.0</td>\n",
       "      <td>-78.0</td>\n",
       "      <td>-74.8</td>\n",
       "      <td>-75.0</td>\n",
       "      <td>-74.9</td>\n",
       "      <td>-54.8</td>\n",
       "      <td>...</td>\n",
       "      <td>-5.4</td>\n",
       "      <td>-9.1</td>\n",
       "      <td>-9.5</td>\n",
       "      <td>-7.8</td>\n",
       "      <td>-5.4</td>\n",
       "      <td>10.7</td>\n",
       "      <td>4.8</td>\n",
       "      <td>-7.3</td>\n",
       "      <td>-8.1</td>\n",
       "      <td>-2.8</td>\n",
       "    </tr>\n",
       "    <tr>\n",
       "      <th>1</th>\n",
       "      <td>北海道 札幌駅</td>\n",
       "      <td>644142881</td>\n",
       "      <td>緊急事態宣言前比</td>\n",
       "      <td>-54.4</td>\n",
       "      <td>-75.4</td>\n",
       "      <td>-79.2</td>\n",
       "      <td>-76.2</td>\n",
       "      <td>-76.3</td>\n",
       "      <td>-76.2</td>\n",
       "      <td>-50.9</td>\n",
       "      <td>...</td>\n",
       "      <td>2.9</td>\n",
       "      <td>-1.2</td>\n",
       "      <td>-1.6</td>\n",
       "      <td>0.2</td>\n",
       "      <td>2.8</td>\n",
       "      <td>4.7</td>\n",
       "      <td>-0.8</td>\n",
       "      <td>0.8</td>\n",
       "      <td>-0.1</td>\n",
       "      <td>5.7</td>\n",
       "    </tr>\n",
       "    <tr>\n",
       "      <th>2</th>\n",
       "      <td>北海道 札幌駅</td>\n",
       "      <td>644142881</td>\n",
       "      <td>前年同月比</td>\n",
       "      <td>-62.5</td>\n",
       "      <td>-79.8</td>\n",
       "      <td>-82.9</td>\n",
       "      <td>-80.4</td>\n",
       "      <td>-80.6</td>\n",
       "      <td>-80.5</td>\n",
       "      <td>-59.6</td>\n",
       "      <td>...</td>\n",
       "      <td>2.7</td>\n",
       "      <td>-1.4</td>\n",
       "      <td>-1.8</td>\n",
       "      <td>0.1</td>\n",
       "      <td>2.7</td>\n",
       "      <td>5.9</td>\n",
       "      <td>0.3</td>\n",
       "      <td>0.6</td>\n",
       "      <td>-0.2</td>\n",
       "      <td>5.5</td>\n",
       "    </tr>\n",
       "    <tr>\n",
       "      <th>3</th>\n",
       "      <td>北海道 札幌駅</td>\n",
       "      <td>644142881</td>\n",
       "      <td>前日比</td>\n",
       "      <td>-2.2</td>\n",
       "      <td>-46.1</td>\n",
       "      <td>-15.4</td>\n",
       "      <td>14.5</td>\n",
       "      <td>-0.7</td>\n",
       "      <td>0.4</td>\n",
       "      <td>106.9</td>\n",
       "      <td>...</td>\n",
       "      <td>7.8</td>\n",
       "      <td>-4.0</td>\n",
       "      <td>-0.4</td>\n",
       "      <td>1.9</td>\n",
       "      <td>2.6</td>\n",
       "      <td>1.8</td>\n",
       "      <td>-5.3</td>\n",
       "      <td>1.6</td>\n",
       "      <td>-0.8</td>\n",
       "      <td>5.7</td>\n",
       "    </tr>\n",
       "    <tr>\n",
       "      <th>4</th>\n",
       "      <td>北海道 すすきの</td>\n",
       "      <td>644142683</td>\n",
       "      <td>感染拡大前比</td>\n",
       "      <td>-50.6</td>\n",
       "      <td>-64.4</td>\n",
       "      <td>-71.4</td>\n",
       "      <td>-72.5</td>\n",
       "      <td>-71.9</td>\n",
       "      <td>-71.0</td>\n",
       "      <td>-48.7</td>\n",
       "      <td>...</td>\n",
       "      <td>-28.0</td>\n",
       "      <td>-29.7</td>\n",
       "      <td>-29.0</td>\n",
       "      <td>-26.2</td>\n",
       "      <td>-22.9</td>\n",
       "      <td>-22.4</td>\n",
       "      <td>-35.5</td>\n",
       "      <td>-28.5</td>\n",
       "      <td>-28.2</td>\n",
       "      <td>-25.5</td>\n",
       "    </tr>\n",
       "  </tbody>\n",
       "</table>\n",
       "<p>5 rows × 450 columns</p>\n",
       "</div>"
      ],
      "text/plain": [
       "        エリア       メッシュ      比率種別  2020/05/01  2020/05/02  2020/05/03  \\\n",
       "0   北海道 札幌駅  644142881    感染拡大前比       -58.0       -74.0       -78.0   \n",
       "1   北海道 札幌駅  644142881  緊急事態宣言前比       -54.4       -75.4       -79.2   \n",
       "2   北海道 札幌駅  644142881     前年同月比       -62.5       -79.8       -82.9   \n",
       "3   北海道 札幌駅  644142881       前日比        -2.2       -46.1       -15.4   \n",
       "4  北海道 すすきの  644142683    感染拡大前比       -50.6       -64.4       -71.4   \n",
       "\n",
       "   2020/05/04  2020/05/05  2020/05/06  2020/05/07  ...  2021/07/12  \\\n",
       "0       -74.8       -75.0       -74.9       -54.8  ...        -5.4   \n",
       "1       -76.2       -76.3       -76.2       -50.9  ...         2.9   \n",
       "2       -80.4       -80.6       -80.5       -59.6  ...         2.7   \n",
       "3        14.5        -0.7         0.4       106.9  ...         7.8   \n",
       "4       -72.5       -71.9       -71.0       -48.7  ...       -28.0   \n",
       "\n",
       "   2021/07/13  2021/07/14  2021/07/15  2021/07/16  2021/07/17  2021/07/18  \\\n",
       "0        -9.1        -9.5        -7.8        -5.4        10.7         4.8   \n",
       "1        -1.2        -1.6         0.2         2.8         4.7        -0.8   \n",
       "2        -1.4        -1.8         0.1         2.7         5.9         0.3   \n",
       "3        -4.0        -0.4         1.9         2.6         1.8        -5.3   \n",
       "4       -29.7       -29.0       -26.2       -22.9       -22.4       -35.5   \n",
       "\n",
       "   2021/07/19  2021/07/20  2021/07/21  \n",
       "0        -7.3        -8.1        -2.8  \n",
       "1         0.8        -0.1         5.7  \n",
       "2         0.6        -0.2         5.5  \n",
       "3         1.6        -0.8         5.7  \n",
       "4       -28.5       -28.2       -25.5  \n",
       "\n",
       "[5 rows x 450 columns]"
      ]
     },
     "execution_count": 4,
     "metadata": {},
     "output_type": "execute_result"
    }
   ],
   "source": [
    "df.head()"
   ]
  },
  {
   "cell_type": "markdown",
   "metadata": {},
   "source": [
    "### データの仕様の推測\n",
    "\n",
    "データの仕様は明示的に書かれていないが、以下のようになっていると推測される。\n",
    "銀座とか（平日と休日とで人口が大きく違うスポット）がわかりやすい\n",
    "\n",
    "* 感染拡大前比：平日は感染拡大前の平日に対する比率。休日は感染拡大前の休日に対する比率。平日休日の区別あり。 おそらく2020/1/18(土)～2020/2/14(金)4週間 を取っている。（https://mobaku.jp/covid-19/archive/kantokoshinetsu.html）\n",
    "* 前年同月比：平日は感染拡大前の平日に対する比率。休日は感染拡大前の休日に対する比率。平日休日の区別あり。 \n",
    "* 緊急事態宣言前比：ある一定値に対する比率。平日休日の区別なし。\n",
    "* 前日比：字のまま。平日休日の区別なし。\n",
    "\n",
    "比率だけで基準値が無いんだが……  \n",
    "平日休日の区別なく人数がわかるのは「緊急事態宣言前比」「前日比」の2つ。   \n",
    "「前日比」で累積の掛け算をして求めることも可能だが、基準値をどうするかが難しい。\n",
    "「緊急事態宣言前比」を使おう。"
   ]
  },
  {
   "cell_type": "code",
   "execution_count": 5,
   "metadata": {},
   "outputs": [],
   "source": [
    "# エリアを変えて実行する場合はここ以降のセルを順次実行で良い\n",
    "\n",
    "area = \"東京都 新宿駅\"\n",
    "# area = \"東京都 渋谷センター街\"\n",
    "# area = \"東京都 霞が関\"\n",
    "# area = \"東京都 東京駅\"\n",
    "# area = \"東京都 羽田空港 第1ターミナル\"\n",
    "\n",
    "# area = \"大阪府 梅田\"\n"
   ]
  },
  {
   "cell_type": "code",
   "execution_count": 6,
   "metadata": {},
   "outputs": [
    {
     "data": {
      "text/html": [
       "<div>\n",
       "<style scoped>\n",
       "    .dataframe tbody tr th:only-of-type {\n",
       "        vertical-align: middle;\n",
       "    }\n",
       "\n",
       "    .dataframe tbody tr th {\n",
       "        vertical-align: top;\n",
       "    }\n",
       "\n",
       "    .dataframe thead th {\n",
       "        text-align: right;\n",
       "    }\n",
       "</style>\n",
       "<table border=\"1\" class=\"dataframe\">\n",
       "  <thead>\n",
       "    <tr style=\"text-align: right;\">\n",
       "      <th></th>\n",
       "      <th>エリア</th>\n",
       "      <th>メッシュ</th>\n",
       "      <th>比率種別</th>\n",
       "      <th>2020/05/01</th>\n",
       "      <th>2020/05/02</th>\n",
       "      <th>2020/05/03</th>\n",
       "      <th>2020/05/04</th>\n",
       "      <th>2020/05/05</th>\n",
       "      <th>2020/05/06</th>\n",
       "      <th>2020/05/07</th>\n",
       "      <th>...</th>\n",
       "      <th>2021/07/12</th>\n",
       "      <th>2021/07/13</th>\n",
       "      <th>2021/07/14</th>\n",
       "      <th>2021/07/15</th>\n",
       "      <th>2021/07/16</th>\n",
       "      <th>2021/07/17</th>\n",
       "      <th>2021/07/18</th>\n",
       "      <th>2021/07/19</th>\n",
       "      <th>2021/07/20</th>\n",
       "      <th>2021/07/21</th>\n",
       "    </tr>\n",
       "  </thead>\n",
       "  <tbody>\n",
       "    <tr>\n",
       "      <th>117</th>\n",
       "      <td>東京都 新宿駅</td>\n",
       "      <td>533945263</td>\n",
       "      <td>緊急事態宣言前比</td>\n",
       "      <td>-55.8</td>\n",
       "      <td>-68.0</td>\n",
       "      <td>-73.6</td>\n",
       "      <td>-72.3</td>\n",
       "      <td>-72.0</td>\n",
       "      <td>-71.8</td>\n",
       "      <td>-47.2</td>\n",
       "      <td>...</td>\n",
       "      <td>27.2</td>\n",
       "      <td>26.4</td>\n",
       "      <td>26.2</td>\n",
       "      <td>27.9</td>\n",
       "      <td>35.1</td>\n",
       "      <td>62.4</td>\n",
       "      <td>50.3</td>\n",
       "      <td>24.5</td>\n",
       "      <td>27.8</td>\n",
       "      <td>31.0</td>\n",
       "    </tr>\n",
       "  </tbody>\n",
       "</table>\n",
       "<p>1 rows × 450 columns</p>\n",
       "</div>"
      ],
      "text/plain": [
       "         エリア       メッシュ      比率種別  2020/05/01  2020/05/02  2020/05/03  \\\n",
       "117  東京都 新宿駅  533945263  緊急事態宣言前比       -55.8       -68.0       -73.6   \n",
       "\n",
       "     2020/05/04  2020/05/05  2020/05/06  2020/05/07  ...  2021/07/12  \\\n",
       "117       -72.3       -72.0       -71.8       -47.2  ...        27.2   \n",
       "\n",
       "     2021/07/13  2021/07/14  2021/07/15  2021/07/16  2021/07/17  2021/07/18  \\\n",
       "117        26.4        26.2        27.9        35.1        62.4        50.3   \n",
       "\n",
       "     2021/07/19  2021/07/20  2021/07/21  \n",
       "117        24.5        27.8        31.0  \n",
       "\n",
       "[1 rows x 450 columns]"
      ]
     },
     "execution_count": 6,
     "metadata": {},
     "output_type": "execute_result"
    }
   ],
   "source": [
    "df.query('エリア == @area  & 比率種別 == \"緊急事態宣言前比\"')"
   ]
  },
  {
   "cell_type": "code",
   "execution_count": 7,
   "metadata": {},
   "outputs": [],
   "source": [
    "area_data = df.query('エリア == @area & 比率種別 == \"緊急事態宣言前比\"')"
   ]
  },
  {
   "cell_type": "code",
   "execution_count": 8,
   "metadata": {},
   "outputs": [],
   "source": [
    "# 最初3列は数値ではないので除外\n",
    "df_pop = area_data.iloc[:, 3:]"
   ]
  },
  {
   "cell_type": "code",
   "execution_count": 9,
   "metadata": {},
   "outputs": [],
   "source": [
    "df_pop = df_pop.T\n",
    "df_pop.columns = ['population']\n",
    "df_pop['population'] += 100\n"
   ]
  },
  {
   "cell_type": "code",
   "execution_count": 10,
   "metadata": {},
   "outputs": [
    {
     "data": {
      "text/html": [
       "<div>\n",
       "<style scoped>\n",
       "    .dataframe tbody tr th:only-of-type {\n",
       "        vertical-align: middle;\n",
       "    }\n",
       "\n",
       "    .dataframe tbody tr th {\n",
       "        vertical-align: top;\n",
       "    }\n",
       "\n",
       "    .dataframe thead th {\n",
       "        text-align: right;\n",
       "    }\n",
       "</style>\n",
       "<table border=\"1\" class=\"dataframe\">\n",
       "  <thead>\n",
       "    <tr style=\"text-align: right;\">\n",
       "      <th></th>\n",
       "      <th>population</th>\n",
       "    </tr>\n",
       "  </thead>\n",
       "  <tbody>\n",
       "    <tr>\n",
       "      <th>2020/05/01</th>\n",
       "      <td>44.2</td>\n",
       "    </tr>\n",
       "    <tr>\n",
       "      <th>2020/05/02</th>\n",
       "      <td>32.0</td>\n",
       "    </tr>\n",
       "    <tr>\n",
       "      <th>2020/05/03</th>\n",
       "      <td>26.4</td>\n",
       "    </tr>\n",
       "    <tr>\n",
       "      <th>2020/05/04</th>\n",
       "      <td>27.7</td>\n",
       "    </tr>\n",
       "    <tr>\n",
       "      <th>2020/05/05</th>\n",
       "      <td>28.0</td>\n",
       "    </tr>\n",
       "    <tr>\n",
       "      <th>...</th>\n",
       "      <td>...</td>\n",
       "    </tr>\n",
       "    <tr>\n",
       "      <th>2021/07/17</th>\n",
       "      <td>162.4</td>\n",
       "    </tr>\n",
       "    <tr>\n",
       "      <th>2021/07/18</th>\n",
       "      <td>150.3</td>\n",
       "    </tr>\n",
       "    <tr>\n",
       "      <th>2021/07/19</th>\n",
       "      <td>124.5</td>\n",
       "    </tr>\n",
       "    <tr>\n",
       "      <th>2021/07/20</th>\n",
       "      <td>127.8</td>\n",
       "    </tr>\n",
       "    <tr>\n",
       "      <th>2021/07/21</th>\n",
       "      <td>131.0</td>\n",
       "    </tr>\n",
       "  </tbody>\n",
       "</table>\n",
       "<p>447 rows × 1 columns</p>\n",
       "</div>"
      ],
      "text/plain": [
       "            population\n",
       "2020/05/01        44.2\n",
       "2020/05/02        32.0\n",
       "2020/05/03        26.4\n",
       "2020/05/04        27.7\n",
       "2020/05/05        28.0\n",
       "...                ...\n",
       "2021/07/17       162.4\n",
       "2021/07/18       150.3\n",
       "2021/07/19       124.5\n",
       "2021/07/20       127.8\n",
       "2021/07/21       131.0\n",
       "\n",
       "[447 rows x 1 columns]"
      ]
     },
     "execution_count": 10,
     "metadata": {},
     "output_type": "execute_result"
    }
   ],
   "source": [
    "df_pop"
   ]
  },
  {
   "cell_type": "code",
   "execution_count": 11,
   "metadata": {},
   "outputs": [
    {
     "data": {
      "text/plain": [
       "Index(['2020/05/01', '2020/05/02', '2020/05/03', '2020/05/04', '2020/05/05',\n",
       "       '2020/05/06', '2020/05/07', '2020/05/08', '2020/05/09', '2020/05/10',\n",
       "       ...\n",
       "       '2021/07/12', '2021/07/13', '2021/07/14', '2021/07/15', '2021/07/16',\n",
       "       '2021/07/17', '2021/07/18', '2021/07/19', '2021/07/20', '2021/07/21'],\n",
       "      dtype='object', length=447)"
      ]
     },
     "execution_count": 11,
     "metadata": {},
     "output_type": "execute_result"
    }
   ],
   "source": [
    "df_pop.index\n",
    "# これは日付型じゃない!"
   ]
  },
  {
   "cell_type": "code",
   "execution_count": 12,
   "metadata": {},
   "outputs": [
    {
     "data": {
      "text/plain": [
       "DatetimeIndex(['2020-05-01', '2020-05-02', '2020-05-03', '2020-05-04',\n",
       "               '2020-05-05', '2020-05-06', '2020-05-07', '2020-05-08',\n",
       "               '2020-05-09', '2020-05-10',\n",
       "               ...\n",
       "               '2021-07-12', '2021-07-13', '2021-07-14', '2021-07-15',\n",
       "               '2021-07-16', '2021-07-17', '2021-07-18', '2021-07-19',\n",
       "               '2021-07-20', '2021-07-21'],\n",
       "              dtype='datetime64[ns]', length=447, freq=None)"
      ]
     },
     "execution_count": 12,
     "metadata": {},
     "output_type": "execute_result"
    }
   ],
   "source": [
    "df_pop.index = pd.to_datetime(df_pop.index)\n",
    "df_pop.index\n",
    "# 日付型になった。"
   ]
  },
  {
   "cell_type": "code",
   "execution_count": 13,
   "metadata": {},
   "outputs": [
    {
     "data": {
      "text/plain": [
       "<AxesSubplot:>"
      ]
     },
     "execution_count": 13,
     "metadata": {},
     "output_type": "execute_result"
    },
    {
     "data": {
      "image/png": "[encoded data removed]",
      "text/plain": [
       "<Figure size 432x288 with 1 Axes>"
      ]
     },
     "metadata": {
      "needs_background": "light"
     },
     "output_type": "display_data"
    }
   ],
   "source": [
    "df_pop.plot()"
   ]
  },
  {
   "cell_type": "markdown",
   "metadata": {},
   "source": [
    "* 第3波以降くらいに絞る\n",
    "* 平日と休日で線を分ける\n",
    "* 緊急事態宣言の区間で背景色を分ける\n",
    "* 1ヶ月ごとに縦線を入れたい\n",
    "* グラフのサイズ変更\n",
    "* できればseabornでできないかなぁ"
   ]
  },
  {
   "cell_type": "markdown",
   "metadata": {},
   "source": [
    "## 第3波以降くらいに絞る\n",
    "2020年11月以降"
   ]
  },
  {
   "cell_type": "code",
   "execution_count": 14,
   "metadata": {},
   "outputs": [],
   "source": [
    "df_pop['date'] = pd.to_datetime(df_pop.index)"
   ]
  },
  {
   "cell_type": "code",
   "execution_count": 15,
   "metadata": {},
   "outputs": [
    {
     "data": {
      "text/plain": [
       "population           float64\n",
       "date          datetime64[ns]\n",
       "dtype: object"
      ]
     },
     "execution_count": 15,
     "metadata": {},
     "output_type": "execute_result"
    }
   ],
   "source": [
    "df_pop.dtypes"
   ]
  },
  {
   "cell_type": "code",
   "execution_count": 16,
   "metadata": {},
   "outputs": [],
   "source": [
    "start_date = datetime.datetime(2020, 11, 1)\n",
    "end_date = datetime.datetime(2021, 7, 21)"
   ]
  },
  {
   "cell_type": "code",
   "execution_count": 17,
   "metadata": {},
   "outputs": [],
   "source": [
    "df_pop = df_pop.query('@start_date <= date <= @end_date').copy()"
   ]
  },
  {
   "cell_type": "markdown",
   "metadata": {},
   "source": [
    "## 平日と休日で線を分ける"
   ]
  },
  {
   "cell_type": "code",
   "execution_count": 18,
   "metadata": {},
   "outputs": [],
   "source": [
    "# df_pop['date']は文字列ではなく、 datetime64[ns]\n"
   ]
  },
  {
   "cell_type": "code",
   "execution_count": 19,
   "metadata": {},
   "outputs": [],
   "source": [
    "# これは引数が文字列なので、datetime型に対しては使えない。\n",
    "def calc_day_of_week(date_str):\n",
    "    date_dt = datetime.datetime.strptime(date_str, '%Y/%m/%d')\n",
    "    return date_dt.strftime('%a') # 曜日の英語短縮名"
   ]
  },
  {
   "cell_type": "code",
   "execution_count": 20,
   "metadata": {},
   "outputs": [],
   "source": [
    "df_pop['dow'] = df_pop['date'].apply(lambda x: x.dayofweek)\n",
    "# 月火水木金土日 = 0123456"
   ]
  },
  {
   "cell_type": "code",
   "execution_count": 21,
   "metadata": {},
   "outputs": [],
   "source": [
    "df_pop['weekend'] = (df_pop['dow'] == 5) | (df_pop['dow'] == 6)"
   ]
  },
  {
   "cell_type": "code",
   "execution_count": 22,
   "metadata": {},
   "outputs": [
    {
     "data": {
      "text/html": [
       "<div>\n",
       "<style scoped>\n",
       "    .dataframe tbody tr th:only-of-type {\n",
       "        vertical-align: middle;\n",
       "    }\n",
       "\n",
       "    .dataframe tbody tr th {\n",
       "        vertical-align: top;\n",
       "    }\n",
       "\n",
       "    .dataframe thead th {\n",
       "        text-align: right;\n",
       "    }\n",
       "</style>\n",
       "<table border=\"1\" class=\"dataframe\">\n",
       "  <thead>\n",
       "    <tr style=\"text-align: right;\">\n",
       "      <th></th>\n",
       "      <th>population</th>\n",
       "      <th>date</th>\n",
       "      <th>dow</th>\n",
       "      <th>weekend</th>\n",
       "    </tr>\n",
       "  </thead>\n",
       "  <tbody>\n",
       "    <tr>\n",
       "      <th>2020-11-01</th>\n",
       "      <td>149.3</td>\n",
       "      <td>2020-11-01</td>\n",
       "      <td>6</td>\n",
       "      <td>True</td>\n",
       "    </tr>\n",
       "    <tr>\n",
       "      <th>2020-11-02</th>\n",
       "      <td>130.1</td>\n",
       "      <td>2020-11-02</td>\n",
       "      <td>0</td>\n",
       "      <td>False</td>\n",
       "    </tr>\n",
       "    <tr>\n",
       "      <th>2020-11-03</th>\n",
       "      <td>139.7</td>\n",
       "      <td>2020-11-03</td>\n",
       "      <td>1</td>\n",
       "      <td>False</td>\n",
       "    </tr>\n",
       "    <tr>\n",
       "      <th>2020-11-04</th>\n",
       "      <td>129.1</td>\n",
       "      <td>2020-11-04</td>\n",
       "      <td>2</td>\n",
       "      <td>False</td>\n",
       "    </tr>\n",
       "    <tr>\n",
       "      <th>2020-11-05</th>\n",
       "      <td>133.5</td>\n",
       "      <td>2020-11-05</td>\n",
       "      <td>3</td>\n",
       "      <td>False</td>\n",
       "    </tr>\n",
       "  </tbody>\n",
       "</table>\n",
       "</div>"
      ],
      "text/plain": [
       "            population       date  dow  weekend\n",
       "2020-11-01       149.3 2020-11-01    6     True\n",
       "2020-11-02       130.1 2020-11-02    0    False\n",
       "2020-11-03       139.7 2020-11-03    1    False\n",
       "2020-11-04       129.1 2020-11-04    2    False\n",
       "2020-11-05       133.5 2020-11-05    3    False"
      ]
     },
     "execution_count": 22,
     "metadata": {},
     "output_type": "execute_result"
    }
   ],
   "source": [
    "df_pop.head()"
   ]
  },
  {
   "cell_type": "code",
   "execution_count": 23,
   "metadata": {},
   "outputs": [],
   "source": [
    "# 祝日は一旦考慮しない\n",
    "df_pop['pop_weekend'] = df_pop['population'].where(df_pop['weekend'])\n",
    "df_pop['pop_weekday'] = df_pop['population'].where(~df_pop['weekend'])\n"
   ]
  },
  {
   "cell_type": "code",
   "execution_count": 24,
   "metadata": {},
   "outputs": [
    {
     "data": {
      "text/html": [
       "<div>\n",
       "<style scoped>\n",
       "    .dataframe tbody tr th:only-of-type {\n",
       "        vertical-align: middle;\n",
       "    }\n",
       "\n",
       "    .dataframe tbody tr th {\n",
       "        vertical-align: top;\n",
       "    }\n",
       "\n",
       "    .dataframe thead th {\n",
       "        text-align: right;\n",
       "    }\n",
       "</style>\n",
       "<table border=\"1\" class=\"dataframe\">\n",
       "  <thead>\n",
       "    <tr style=\"text-align: right;\">\n",
       "      <th></th>\n",
       "      <th>population</th>\n",
       "      <th>date</th>\n",
       "      <th>dow</th>\n",
       "      <th>weekend</th>\n",
       "      <th>pop_weekend</th>\n",
       "      <th>pop_weekday</th>\n",
       "    </tr>\n",
       "  </thead>\n",
       "  <tbody>\n",
       "    <tr>\n",
       "      <th>2020-11-01</th>\n",
       "      <td>149.3</td>\n",
       "      <td>2020-11-01</td>\n",
       "      <td>6</td>\n",
       "      <td>True</td>\n",
       "      <td>149.3</td>\n",
       "      <td>NaN</td>\n",
       "    </tr>\n",
       "    <tr>\n",
       "      <th>2020-11-02</th>\n",
       "      <td>130.1</td>\n",
       "      <td>2020-11-02</td>\n",
       "      <td>0</td>\n",
       "      <td>False</td>\n",
       "      <td>NaN</td>\n",
       "      <td>130.1</td>\n",
       "    </tr>\n",
       "    <tr>\n",
       "      <th>2020-11-03</th>\n",
       "      <td>139.7</td>\n",
       "      <td>2020-11-03</td>\n",
       "      <td>1</td>\n",
       "      <td>False</td>\n",
       "      <td>NaN</td>\n",
       "      <td>139.7</td>\n",
       "    </tr>\n",
       "    <tr>\n",
       "      <th>2020-11-04</th>\n",
       "      <td>129.1</td>\n",
       "      <td>2020-11-04</td>\n",
       "      <td>2</td>\n",
       "      <td>False</td>\n",
       "      <td>NaN</td>\n",
       "      <td>129.1</td>\n",
       "    </tr>\n",
       "    <tr>\n",
       "      <th>2020-11-05</th>\n",
       "      <td>133.5</td>\n",
       "      <td>2020-11-05</td>\n",
       "      <td>3</td>\n",
       "      <td>False</td>\n",
       "      <td>NaN</td>\n",
       "      <td>133.5</td>\n",
       "    </tr>\n",
       "  </tbody>\n",
       "</table>\n",
       "</div>"
      ],
      "text/plain": [
       "            population       date  dow  weekend  pop_weekend  pop_weekday\n",
       "2020-11-01       149.3 2020-11-01    6     True        149.3          NaN\n",
       "2020-11-02       130.1 2020-11-02    0    False          NaN        130.1\n",
       "2020-11-03       139.7 2020-11-03    1    False          NaN        139.7\n",
       "2020-11-04       129.1 2020-11-04    2    False          NaN        129.1\n",
       "2020-11-05       133.5 2020-11-05    3    False          NaN        133.5"
      ]
     },
     "execution_count": 24,
     "metadata": {},
     "output_type": "execute_result"
    }
   ],
   "source": [
    "df_pop.head()"
   ]
  },
  {
   "cell_type": "code",
   "execution_count": 25,
   "metadata": {},
   "outputs": [
    {
     "data": {
      "text/plain": [
       "[<matplotlib.lines.Line2D at 0x12a044f70>]"
      ]
     },
     "execution_count": 25,
     "metadata": {},
     "output_type": "execute_result"
    },
    {
     "data": {
      "image/png": "[encoded data removed]",
      "text/plain": [
       "<Figure size 864x288 with 1 Axes>"
      ]
     },
     "metadata": {
      "needs_background": "light"
     },
     "output_type": "display_data"
    }
   ],
   "source": [
    "fig, ax = plt.subplots(figsize=(12,4))\n",
    "\n",
    "ax.plot(df_pop['pop_weekday'])\n",
    "ax.plot(df_pop['pop_weekend'])\n",
    "\n",
    "# 線をつなげたければ、多分、プロットの該当日だけ抜き出したSeriesを別個に作るか、もしくはNaNを切らずにつなぐオプションにするか、の2択だと思う。"
   ]
  },
  {
   "cell_type": "markdown",
   "metadata": {},
   "source": [
    "## 緊急事態宣言の区間で背景色を分ける\n",
    "\n",
    "グラフの一部の背景色を変える\n",
    "\n",
    "https://stackoverflow.com/questions/54977900/python-matplotlib-create-graph-with-changing-background-colors  \n",
    "fill_between() 使い方よくわからん\n",
    "\n",
    "https://stackoverflow.com/questions/58218292/matplotlib-match-background-color-plot-to-pandas-column-values  \n",
    "https://stackoverflow.com/questions/46961465/different-background-colour-areas-on-matplotlib-plot  \n",
    "https://bunsekikobako.com/axvspan-and-axhspan/  \n",
    "axvspan(横方向で範囲を指定する場合)、axhspan(縦方向で範囲を指定する場合)\n"
   ]
  },
  {
   "cell_type": "code",
   "execution_count": 26,
   "metadata": {},
   "outputs": [
    {
     "data": {
      "text/plain": [
       "DatetimeIndex(['2020-11-01', '2020-11-02', '2020-11-03', '2020-11-04',\n",
       "               '2020-11-05', '2020-11-06', '2020-11-07', '2020-11-08',\n",
       "               '2020-11-09', '2020-11-10',\n",
       "               ...\n",
       "               '2021-07-12', '2021-07-13', '2021-07-14', '2021-07-15',\n",
       "               '2021-07-16', '2021-07-17', '2021-07-18', '2021-07-19',\n",
       "               '2021-07-20', '2021-07-21'],\n",
       "              dtype='datetime64[ns]', length=263, freq=None)"
      ]
     },
     "execution_count": 26,
     "metadata": {},
     "output_type": "execute_result"
    }
   ],
   "source": [
    "df_pop.index"
   ]
  },
  {
   "cell_type": "code",
   "execution_count": 27,
   "metadata": {},
   "outputs": [],
   "source": [
    "def interval_tokyo(ax):\n",
    "    # 2回目の緊急事態宣言 1/8 〜 3/21\n",
    "    start_datetime = datetime.datetime(2021, 1,8)\n",
    "    end_datetime = datetime.datetime(2021, 3,22)\n",
    "    ax.axvspan(start_datetime, end_datetime, color=\"red\", alpha=0.3)\n",
    "\n",
    "    # まん延防止等重点措置 4/12 〜 4/24\n",
    "    start_datetime = datetime.datetime(2021, 4, 12)\n",
    "    end_datetime = datetime.datetime(2021, 4, 25)\n",
    "    ax.axvspan(start_datetime, end_datetime, color=\"yellow\", alpha=0.3)\n",
    "\n",
    "    # 3回目の緊急事態宣言 4/25 〜 6/20\n",
    "    start_datetime = datetime.datetime(2021, 4, 25)\n",
    "    end_datetime = datetime.datetime(2021, 6, 21)\n",
    "    ax.axvspan(start_datetime, end_datetime, color=\"red\", alpha=0.3)\n",
    "\n",
    "    # まん延防止等重点措置 6/21 〜 7/11\n",
    "    start_datetime = datetime.datetime(2021, 6, 21)\n",
    "    end_datetime = datetime.datetime(2021, 7, 12)\n",
    "    ax.axvspan(start_datetime, end_datetime, color=\"yellow\", alpha=0.3)\n",
    "\n",
    "    # 4回目の緊急事態宣言 7/12 〜 8/22 とりあえず7月いっぱいを図示\n",
    "    start_datetime = datetime.datetime(2021, 7, 12)\n",
    "    end_datetime = datetime.datetime(2021, 8, 1)\n",
    "    ax.axvspan(start_datetime, end_datetime, color=\"red\", alpha=0.3)"
   ]
  },
  {
   "cell_type": "code",
   "execution_count": 28,
   "metadata": {},
   "outputs": [],
   "source": [
    "def interval_osaka(ax):\n",
    "    # 2回目の緊急事態宣言 1/8 〜 2/28\n",
    "    start_datetime = datetime.datetime(2021, 1,8)\n",
    "    end_datetime = datetime.datetime(2021, 3, 1)\n",
    "    ax.axvspan(start_datetime, end_datetime, color=\"red\", alpha=0.3)\n",
    "\n",
    "    # まん延防止等重点措置 4/5 〜 4/24\n",
    "    start_datetime = datetime.datetime(2021, 4, 5)\n",
    "    end_datetime = datetime.datetime(2021, 4, 25)\n",
    "    ax.axvspan(start_datetime, end_datetime, color=\"yellow\", alpha=0.3)\n",
    "\n",
    "    # 3回目の緊急事態宣言 4/25 〜 6/20\n",
    "    start_datetime = datetime.datetime(2021, 4, 25)\n",
    "    end_datetime = datetime.datetime(2021, 6, 21)\n",
    "    ax.axvspan(start_datetime, end_datetime, color=\"red\", alpha=0.3)\n",
    "\n",
    "    # まん延防止等重点措置 6/21 〜 8/22 とりあえず7月いっぱいを図示\n",
    "    start_datetime = datetime.datetime(2021, 6, 21)\n",
    "    end_datetime = datetime.datetime(2021, 8, 1)\n",
    "    ax.axvspan(start_datetime, end_datetime, color=\"yellow\", alpha=0.3)\n",
    "\n",
    "#     # 4回目の緊急事態宣言 7/12 〜 8/22 とりあえず7月いっぱいを図示\n",
    "#     start_datetime = datetime.datetime(2021, 7, 12)\n",
    "#     end_datetime = datetime.datetime(2021, 8, 1)\n",
    "#     ax.axvspan(start_datetime, end_datetime, color=\"red\", alpha=0.3)"
   ]
  },
  {
   "cell_type": "code",
   "execution_count": 29,
   "metadata": {},
   "outputs": [
    {
     "data": {
      "image/png": "[encoded data removed]",
      "text/plain": [
       "<Figure size 1080x360 with 1 Axes>"
      ]
     },
     "metadata": {
      "needs_background": "light"
     },
     "output_type": "display_data"
    }
   ],
   "source": [
    "fig, ax = plt.subplots(figsize=(15,5))\n",
    "\n",
    "ax.plot(df_pop['pop_weekday'], color='navy')\n",
    "ax.plot(df_pop['pop_weekend'], color='red')\n",
    "\n",
    "if area[:3] == '東京都':\n",
    "    interval_tokyo(ax)\n",
    "elif area[:3] == '大阪府':\n",
    "    interval_osaka(ax)\n",
    "\n",
    "ax.grid(True)\n",
    "# ax.set_ylim(70, None)\n",
    "\n",
    "if area  == \"東京都 霞が関\":\n",
    "    date_0519 = datetime.datetime(2021, 5, 19)\n",
    "    ax.axvline(date_0519, color='gray')\n",
    "\n",
    "ax.set_title(area, fontsize=15)\n",
    "fig.savefig(f\"{area}.png\")"
   ]
  },
  {
   "cell_type": "code",
   "execution_count": 30,
   "metadata": {},
   "outputs": [],
   "source": [
    "# 線をつなげてみたけど、わかりにくいね。微妙\n",
    "\n",
    "# fig, ax = plt.subplots(figsize=(15,5))\n",
    "\n",
    "# ax.plot(df_pop.dropna(subset=['pop_weekday'])['pop_weekday'], color='navy')\n",
    "# ax.plot(df_pop.dropna(subset=['pop_weekend'])['pop_weekend'], color='red')\n",
    "\n",
    "# if area[:3] == '東京都':\n",
    "#     interval_tokyo(ax)\n",
    "# elif area[:3] == '大阪府':\n",
    "#     interval_osaka(ax)\n",
    "\n",
    "# ax.grid(True)\n"
   ]
  },
  {
   "cell_type": "code",
   "execution_count": null,
   "metadata": {},
   "outputs": [],
   "source": []
  }
 ],
 "metadata": {
  "kernelspec": {
   "display_name": "Python 3",
   "language": "python",
   "name": "python3"
  },
  "language_info": {
   "codemirror_mode": {
    "name": "ipython",
    "version": 3
   },
   "file_extension": ".py",
   "mimetype": "text/x-python",
   "name": "python",
   "nbconvert_exporter": "python",
   "pygments_lexer": "ipython3",
   "version": "3.8.5"
  }
 },
 "nbformat": 4,
 "nbformat_minor": 4
}
