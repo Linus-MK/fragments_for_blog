{
 "cells": [
  {
   "cell_type": "markdown",
   "metadata": {},
   "source": [
    "## このページについて\n",
    "pandasのgroupby後にfirst/last/head/tail/nth関数。  \n",
    "完成したブログ記事  \n",
    "まだない。"
   ]
  },
  {
   "cell_type": "code",
   "execution_count": 1,
   "metadata": {
    "scrolled": true
   },
   "outputs": [],
   "source": [
    "import pandas as pd\n",
    "\n",
    "pd.options.display.notebook_repr_html = False # DataFrameの表を綺麗にHTMLで表示されるとブログに貼り付けづらい。テキストにする"
   ]
  },
  {
   "cell_type": "code",
   "execution_count": 24,
   "metadata": {},
   "outputs": [],
   "source": [
    "df = pd.DataFrame({\n",
    "    'name'    : ['Alice', 'Bob', 'Charlie', 'David', 'Eve', 'Fred', 'George', 'Helen', 'Ian', 'John'],\n",
    "    'class'   : ['A', 'A', 'B', 'B', 'A', 'C', 'A', 'B', 'C', 'C'],\n",
    "    'English' : list(range(0, 100, 10)),\n",
    "    'Math'    : list(range(100, 0, -10))    \n",
    "})"
   ]
  },
  {
   "cell_type": "code",
   "execution_count": 25,
   "metadata": {},
   "outputs": [
    {
     "data": {
      "text/plain": [
       "      name class  English  Math\n",
       "0    Alice     A        0   100\n",
       "1      Bob     A       10    90\n",
       "2  Charlie     B       20    80\n",
       "3    David     B       30    70\n",
       "4      Eve     A       40    60\n",
       "5     Fred     C       50    50\n",
       "6   George     A       60    40\n",
       "7    Helen     B       70    30\n",
       "8      Ian     C       80    20\n",
       "9     John     C       90    10"
      ]
     },
     "execution_count": 25,
     "metadata": {},
     "output_type": "execute_result"
    }
   ],
   "source": [
    "df"
   ]
  },
  {
   "cell_type": "code",
   "execution_count": 4,
   "metadata": {},
   "outputs": [
    {
     "data": {
      "text/plain": [
       "<pandas.core.groupby.generic.DataFrameGroupBy object at 0x085A02F0>"
      ]
     },
     "execution_count": 4,
     "metadata": {},
     "output_type": "execute_result"
    }
   ],
   "source": [
    "df.groupby(\"class\")"
   ]
  },
  {
   "cell_type": "code",
   "execution_count": 5,
   "metadata": {},
   "outputs": [
    {
     "data": {
      "text/plain": [
       "          name  English  Math\n",
       "class                        \n",
       "A        Alice        0   100\n",
       "B      Charlie       20    80\n",
       "C         Fred       50    50"
      ]
     },
     "execution_count": 5,
     "metadata": {},
     "output_type": "execute_result"
    }
   ],
   "source": [
    "df.groupby(\"class\").first()"
   ]
  },
  {
   "cell_type": "code",
   "execution_count": 6,
   "metadata": {},
   "outputs": [
    {
     "data": {
      "text/plain": [
       "          name  English  Math\n",
       "class                        \n",
       "A        Alice        0   100\n",
       "B      Charlie       20    80\n",
       "C         Fred       50    50"
      ]
     },
     "execution_count": 6,
     "metadata": {},
     "output_type": "execute_result"
    }
   ],
   "source": [
    "df.groupby(\"class\").nth(0)"
   ]
  },
  {
   "cell_type": "code",
   "execution_count": 7,
   "metadata": {},
   "outputs": [
    {
     "data": {
      "text/plain": [
       "      name class  English  Math\n",
       "0    Alice     A        0   100\n",
       "2  Charlie     B       20    80\n",
       "5     Fred     C       50    50"
      ]
     },
     "execution_count": 7,
     "metadata": {},
     "output_type": "execute_result"
    }
   ],
   "source": [
    "df.groupby(\"class\").head(1)"
   ]
  },
  {
   "cell_type": "code",
   "execution_count": 8,
   "metadata": {},
   "outputs": [
    {
     "data": {
      "text/plain": [
       "         name  English  Math\n",
       "class                       \n",
       "A      George       60    40\n",
       "B       Helen       70    30\n",
       "C        John       90    10"
      ]
     },
     "execution_count": 8,
     "metadata": {},
     "output_type": "execute_result"
    }
   ],
   "source": [
    "df.groupby(\"class\").last()"
   ]
  },
  {
   "cell_type": "code",
   "execution_count": 9,
   "metadata": {},
   "outputs": [
    {
     "data": {
      "text/plain": [
       "         name  English  Math\n",
       "class                       \n",
       "A      George       60    40\n",
       "B       Helen       70    30\n",
       "C        John       90    10"
      ]
     },
     "execution_count": 9,
     "metadata": {},
     "output_type": "execute_result"
    }
   ],
   "source": [
    "df.groupby(\"class\").nth(-1)"
   ]
  },
  {
   "cell_type": "code",
   "execution_count": 10,
   "metadata": {},
   "outputs": [
    {
     "data": {
      "text/plain": [
       "     name class  English  Math\n",
       "6  George     A       60    40\n",
       "7   Helen     B       70    30\n",
       "9    John     C       90    10"
      ]
     },
     "execution_count": 10,
     "metadata": {},
     "output_type": "execute_result"
    }
   ],
   "source": [
    "df.groupby(\"class\").tail(1)"
   ]
  },
  {
   "cell_type": "markdown",
   "metadata": {},
   "source": [
    "## Nanがあるときどうなるの！？"
   ]
  },
  {
   "cell_type": "code",
   "execution_count": 56,
   "metadata": {},
   "outputs": [],
   "source": [
    "df = pd.DataFrame({\n",
    "    'name'    : ['Alice', 'Bob', 'Charlie', 'David', 'Eve', 'Fred', 'George', 'Helen', 'Ian', 'John'],\n",
    "    'class'   : ['A', 'A', 'B', 'B', 'A', 'C', 'A', 'B', 'C', 'C'],\n",
    "    'English' : list(range(0, 100, 10)),\n",
    "    'Math'    : list(range(100, 0, -10))    \n",
    "})"
   ]
  },
  {
   "cell_type": "code",
   "execution_count": 57,
   "metadata": {},
   "outputs": [],
   "source": [
    "import numpy as np\n",
    "df.loc[0, \"name\"] = np.nan\n",
    "df.loc[0, \"English\"] = np.nan\n",
    "df.loc[0, \"Math\"] = np.nan\n",
    "df.loc[1, \"Math\"] = np.nan\n",
    "df.loc[5, \"English\"] = np.nan"
   ]
  },
  {
   "cell_type": "code",
   "execution_count": 58,
   "metadata": {},
   "outputs": [
    {
     "data": {
      "text/plain": [
       "      name class  English  Math\n",
       "0      NaN     A      NaN   NaN\n",
       "1      Bob     A     10.0   NaN\n",
       "2  Charlie     B     20.0  80.0\n",
       "3    David     B     30.0  70.0\n",
       "4      Eve     A     40.0  60.0\n",
       "5     Fred     C      NaN  50.0\n",
       "6   George     A     60.0  40.0\n",
       "7    Helen     B     70.0  30.0\n",
       "8      Ian     C     80.0  20.0\n",
       "9     John     C     90.0  10.0"
      ]
     },
     "execution_count": 58,
     "metadata": {},
     "output_type": "execute_result"
    }
   ],
   "source": [
    "df"
   ]
  },
  {
   "cell_type": "code",
   "execution_count": 59,
   "metadata": {},
   "outputs": [
    {
     "data": {
      "text/plain": [
       "          name  English  Math\n",
       "class                        \n",
       "A          Bob     10.0  60.0\n",
       "B      Charlie     20.0  80.0\n",
       "C         Fred     80.0  50.0"
      ]
     },
     "execution_count": 59,
     "metadata": {},
     "output_type": "execute_result"
    }
   ],
   "source": [
    "df.groupby(\"class\").first()"
   ]
  },
  {
   "cell_type": "code",
   "execution_count": null,
   "metadata": {},
   "outputs": [],
   "source": []
  },
  {
   "cell_type": "code",
   "execution_count": 60,
   "metadata": {},
   "outputs": [
    {
     "data": {
      "text/plain": [
       "      name class  English  Math\n",
       "0      NaN     A      NaN   NaN\n",
       "2  Charlie     B     20.0  80.0\n",
       "5     Fred     C      NaN  50.0"
      ]
     },
     "execution_count": 60,
     "metadata": {},
     "output_type": "execute_result"
    }
   ],
   "source": [
    "df.groupby(\"class\").head(1)"
   ]
  },
  {
   "cell_type": "code",
   "execution_count": 61,
   "metadata": {},
   "outputs": [
    {
     "data": {
      "text/plain": [
       "          name  English  Math\n",
       "class                        \n",
       "A          NaN      NaN   NaN\n",
       "B      Charlie     20.0  80.0\n",
       "C         Fred      NaN  50.0"
      ]
     },
     "execution_count": 61,
     "metadata": {},
     "output_type": "execute_result"
    }
   ],
   "source": [
    "df.groupby(\"class\").nth(0)"
   ]
  },
  {
   "cell_type": "code",
   "execution_count": 62,
   "metadata": {},
   "outputs": [
    {
     "data": {
      "text/plain": [
       "          name  English  Math\n",
       "class                        \n",
       "A          NaN      NaN   NaN\n",
       "B      Charlie     20.0  80.0\n",
       "C         Fred      NaN  50.0"
      ]
     },
     "execution_count": 62,
     "metadata": {},
     "output_type": "execute_result"
    }
   ],
   "source": [
    "df.groupby(\"class\").nth(0, dropna=\"all\")"
   ]
  },
  {
   "cell_type": "code",
   "execution_count": 63,
   "metadata": {},
   "outputs": [
    {
     "data": {
      "text/plain": [
       "          name  English  Math\n",
       "class                        \n",
       "A          Eve     40.0  60.0\n",
       "B      Charlie     20.0  80.0\n",
       "C          Ian     80.0  20.0"
      ]
     },
     "execution_count": 63,
     "metadata": {},
     "output_type": "execute_result"
    }
   ],
   "source": [
    "df.groupby(\"class\").nth(0, dropna=\"any\")"
   ]
  },
  {
   "cell_type": "code",
   "execution_count": null,
   "metadata": {},
   "outputs": [],
   "source": []
  }
 ],
 "metadata": {
  "kernelspec": {
   "display_name": "Python 3",
   "language": "python",
   "name": "python3"
  },
  "language_info": {
   "codemirror_mode": {
    "name": "ipython",
    "version": 3
   },
   "file_extension": ".py",
   "mimetype": "text/x-python",
   "name": "python",
   "nbconvert_exporter": "python",
   "pygments_lexer": "ipython3",
   "version": "3.7.4"
  }
 },
 "nbformat": 4,
 "nbformat_minor": 2
}
