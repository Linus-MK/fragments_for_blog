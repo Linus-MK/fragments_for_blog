{
 "cells": [
  {
   "cell_type": "code",
   "execution_count": 1,
   "metadata": {},
   "outputs": [],
   "source": [
    "import pandas as pd"
   ]
  },
  {
   "cell_type": "code",
   "execution_count": 2,
   "metadata": {},
   "outputs": [],
   "source": [
    "df_orig = pd.read_csv('dataset/pn.csv.m3.120408.trim', sep='\\t', header=None, names=['word', 'polarity', 'temp1'])"
   ]
  },
  {
   "cell_type": "code",
   "execution_count": 3,
   "metadata": {},
   "outputs": [
    {
     "data": {
      "text/html": [
       "<div>\n",
       "<style scoped>\n",
       "    .dataframe tbody tr th:only-of-type {\n",
       "        vertical-align: middle;\n",
       "    }\n",
       "\n",
       "    .dataframe tbody tr th {\n",
       "        vertical-align: top;\n",
       "    }\n",
       "\n",
       "    .dataframe thead th {\n",
       "        text-align: right;\n",
       "    }\n",
       "</style>\n",
       "<table border=\"1\" class=\"dataframe\">\n",
       "  <thead>\n",
       "    <tr style=\"text-align: right;\">\n",
       "      <th></th>\n",
       "      <th>word</th>\n",
       "      <th>polarity</th>\n",
       "      <th>temp1</th>\n",
       "    </tr>\n",
       "  </thead>\n",
       "  <tbody>\n",
       "    <tr>\n",
       "      <th>46</th>\n",
       "      <td>２次感染</td>\n",
       "      <td>n</td>\n",
       "      <td>〜する（出来事）</td>\n",
       "    </tr>\n",
       "    <tr>\n",
       "      <th>47</th>\n",
       "      <td>２失点</td>\n",
       "      <td>n</td>\n",
       "      <td>〜する（出来事）</td>\n",
       "    </tr>\n",
       "    <tr>\n",
       "      <th>68</th>\n",
       "      <td>３連敗</td>\n",
       "      <td>n</td>\n",
       "      <td>〜する（出来事）</td>\n",
       "    </tr>\n",
       "    <tr>\n",
       "      <th>88</th>\n",
       "      <td>ＡＩＤＳ</td>\n",
       "      <td>n</td>\n",
       "      <td>〜である・になる（状態）客観</td>\n",
       "    </tr>\n",
       "    <tr>\n",
       "      <th>91</th>\n",
       "      <td>Ａ型肝炎</td>\n",
       "      <td>n</td>\n",
       "      <td>〜である・になる（状態）客観</td>\n",
       "    </tr>\n",
       "    <tr>\n",
       "      <th>...</th>\n",
       "      <td>...</td>\n",
       "      <td>...</td>\n",
       "      <td>...</td>\n",
       "    </tr>\n",
       "    <tr>\n",
       "      <th>13304</th>\n",
       "      <td>頽廃</td>\n",
       "      <td>n</td>\n",
       "      <td>〜する（出来事）</td>\n",
       "    </tr>\n",
       "    <tr>\n",
       "      <th>13305</th>\n",
       "      <td>顰蹙</td>\n",
       "      <td>n</td>\n",
       "      <td>〜する（行為）</td>\n",
       "    </tr>\n",
       "    <tr>\n",
       "      <th>13306</th>\n",
       "      <td>騙り</td>\n",
       "      <td>n</td>\n",
       "      <td>〜がある・高まる（存在・性質）</td>\n",
       "    </tr>\n",
       "    <tr>\n",
       "      <th>13308</th>\n",
       "      <td>髀肉の嘆</td>\n",
       "      <td>n</td>\n",
       "      <td>〜である・になる（評価・感情）主観</td>\n",
       "    </tr>\n",
       "    <tr>\n",
       "      <th>13310</th>\n",
       "      <td>魑魅魍魎</td>\n",
       "      <td>n</td>\n",
       "      <td>〜である・になる（状態）客観</td>\n",
       "    </tr>\n",
       "  </tbody>\n",
       "</table>\n",
       "<p>4958 rows × 3 columns</p>\n",
       "</div>"
      ],
      "text/plain": [
       "       word polarity              temp1\n",
       "46     ２次感染        n           〜する（出来事）\n",
       "47      ２失点        n           〜する（出来事）\n",
       "68      ３連敗        n           〜する（出来事）\n",
       "88     ＡＩＤＳ        n     〜である・になる（状態）客観\n",
       "91     Ａ型肝炎        n     〜である・になる（状態）客観\n",
       "...     ...      ...                ...\n",
       "13304    頽廃        n           〜する（出来事）\n",
       "13305    顰蹙        n            〜する（行為）\n",
       "13306    騙り        n    〜がある・高まる（存在・性質）\n",
       "13308  髀肉の嘆        n  〜である・になる（評価・感情）主観\n",
       "13310  魑魅魍魎        n     〜である・になる（状態）客観\n",
       "\n",
       "[4958 rows x 3 columns]"
      ]
     },
     "execution_count": 3,
     "metadata": {},
     "output_type": "execute_result"
    }
   ],
   "source": [
    "df_nega = df_orig.query('polarity==\"n\"')\n",
    "df_nega"
   ]
  },
  {
   "cell_type": "code",
   "execution_count": 4,
   "metadata": {},
   "outputs": [],
   "source": [
    "# 読み仮名どうする\n",
    "# 単純に読み仮名を振る → Pykaksi\n",
    "# MeCabなら→読み仮名と発音を両方取得できる！\n",
    "# MeCab使ってみるか\n"
   ]
  },
  {
   "cell_type": "code",
   "execution_count": 5,
   "metadata": {},
   "outputs": [],
   "source": [
    "import MeCab"
   ]
  },
  {
   "cell_type": "code",
   "execution_count": 6,
   "metadata": {},
   "outputs": [],
   "source": [
    "tagger = MeCab.Tagger()"
   ]
  },
  {
   "cell_type": "code",
   "execution_count": 7,
   "metadata": {},
   "outputs": [
    {
     "name": "stdout",
     "output_type": "stream",
     "text": [
      "修学\tシューガク\tシュウガク\t修学\t名詞-普通名詞-サ変可能\t\t\t0\n",
      "旅行\tリョコー\tリョコウ\t旅行\t名詞-普通名詞-サ変可能\t\t\t0\n",
      "に\tニ\tニ\tに\t助詞-格助詞\t\t\t\n",
      "出かける\tデカケル\tデカケル\t出掛ける\t動詞-一般\t下一段-カ行\t終止形-一般\t0\n",
      "EOS\n",
      "\n"
     ]
    }
   ],
   "source": [
    "print(tagger.parse(\"修学旅行に出かける\"))"
   ]
  },
  {
   "cell_type": "code",
   "execution_count": 8,
   "metadata": {},
   "outputs": [
    {
     "name": "stdout",
     "output_type": "stream",
     "text": [
      "<class 'str'>\n",
      "修学\tシューガク\tシュウガク\t修学\t名詞-普通名詞-サ変可能\t\t\t0\n",
      "旅行\tリョコー\tリョコウ\t旅行\t名詞-普通名詞-サ変可能\t\t\t0\n",
      "に\tニ\tニ\tに\t助詞-格助詞\t\t\t\n",
      "出かける\tデカケル\tデカケル\t出掛ける\t動詞-一般\t下一段-カ行\t終止形-一般\t0\n",
      "EOS\n",
      "\n"
     ]
    }
   ],
   "source": [
    "result = tagger.parse(\"修学旅行に出かける\")\n",
    "print(type(result))\n",
    "print(result)"
   ]
  },
  {
   "cell_type": "code",
   "execution_count": 9,
   "metadata": {},
   "outputs": [],
   "source": [
    "# EOSの手前を抽出\n",
    "result = result.split('\\nEOS')[0]"
   ]
  },
  {
   "cell_type": "code",
   "execution_count": 10,
   "metadata": {},
   "outputs": [
    {
     "name": "stdout",
     "output_type": "stream",
     "text": [
      "修学\tシューガク\tシュウガク\t修学\t名詞-普通名詞-サ変可能\t\t\t0\n",
      "旅行\tリョコー\tリョコウ\t旅行\t名詞-普通名詞-サ変可能\t\t\t0\n",
      "に\tニ\tニ\tに\t助詞-格助詞\t\t\t\n",
      "出かける\tデカケル\tデカケル\t出掛ける\t動詞-一般\t下一段-カ行\t終止形-一般\t0\n"
     ]
    }
   ],
   "source": [
    "print(result)"
   ]
  },
  {
   "cell_type": "code",
   "execution_count": 11,
   "metadata": {},
   "outputs": [
    {
     "data": {
      "text/plain": [
       "[['修学', 'シューガク', 'シュウガク', '修学', '名詞-普通名詞-サ変可能', '', '', '0'],\n",
       " ['旅行', 'リョコー', 'リョコウ', '旅行', '名詞-普通名詞-サ変可能', '', '', '0'],\n",
       " ['に', 'ニ', 'ニ', 'に', '助詞-格助詞', '', '', ''],\n",
       " ['出かける', 'デカケル', 'デカケル', '出掛ける', '動詞-一般', '下一段-カ行', '終止形-一般', '0']]"
      ]
     },
     "execution_count": 11,
     "metadata": {},
     "output_type": "execute_result"
    }
   ],
   "source": [
    "[x.split('\\t') for x in result.split('\\n')]"
   ]
  },
  {
   "cell_type": "code",
   "execution_count": 12,
   "metadata": {},
   "outputs": [
    {
     "data": {
      "text/plain": [
       "'シューガクリョコーニデカケル'"
      ]
     },
     "execution_count": 12,
     "metadata": {},
     "output_type": "execute_result"
    }
   ],
   "source": [
    "''.join([x.split('\\t')[1] for x in result.split('\\n')])"
   ]
  },
  {
   "cell_type": "code",
   "execution_count": 13,
   "metadata": {},
   "outputs": [],
   "source": [
    "def extract_yomi(word):\n",
    "    tagger = MeCab.Tagger()\n",
    "    result = tagger.parse(word)\n",
    "    # EOSの手前を抽出\n",
    "    result = result.split('\\nEOS')[0]\n",
    "    yomi = ''.join([x.split('\\t')[1] for x in result.split('\\n')])\n",
    "    return yomi"
   ]
  },
  {
   "cell_type": "code",
   "execution_count": 14,
   "metadata": {},
   "outputs": [
    {
     "data": {
      "text/plain": [
       "'コドモノラクガキチョー'"
      ]
     },
     "execution_count": 14,
     "metadata": {},
     "output_type": "execute_result"
    }
   ],
   "source": [
    "extract_yomi(\"子供の落書き帳\")"
   ]
  },
  {
   "cell_type": "code",
   "execution_count": 15,
   "metadata": {},
   "outputs": [
    {
     "data": {
      "text/plain": [
       "['猿知恵', '艶聞', '遠回り', '遠島', '遠慮気味', '鉛中毒', '塩害', '塩辛さ', '塩素臭', '汚さ']"
      ]
     },
     "execution_count": 15,
     "metadata": {},
     "output_type": "execute_result"
    }
   ],
   "source": [
    "list(df_nega['word'])[1000:1010]"
   ]
  },
  {
   "cell_type": "code",
   "execution_count": 16,
   "metadata": {},
   "outputs": [],
   "source": [
    "lis = list(df_nega['word'])[1000:1010]"
   ]
  },
  {
   "cell_type": "code",
   "execution_count": 17,
   "metadata": {},
   "outputs": [
    {
     "data": {
      "text/plain": [
       "['サルチエ',\n",
       " 'エンブン',\n",
       " 'トーマワリ',\n",
       " 'エントー',\n",
       " 'エンリョキミ',\n",
       " 'ナマリチュードク',\n",
       " 'エンガイ',\n",
       " 'シオカラサ',\n",
       " 'エンソシュー',\n",
       " 'キタナサ']"
      ]
     },
     "execution_count": 17,
     "metadata": {},
     "output_type": "execute_result"
    }
   ],
   "source": [
    "[extract_yomi(word) for word in lis]"
   ]
  },
  {
   "cell_type": "code",
   "execution_count": 18,
   "metadata": {},
   "outputs": [],
   "source": [
    "lis = list(df_nega['word'])"
   ]
  },
  {
   "cell_type": "code",
   "execution_count": 19,
   "metadata": {},
   "outputs": [
    {
     "name": "stderr",
     "output_type": "stream",
     "text": [
      "<ipython-input-19-baef14f1bba8>:1: SettingWithCopyWarning: \n",
      "A value is trying to be set on a copy of a slice from a DataFrame.\n",
      "Try using .loc[row_indexer,col_indexer] = value instead\n",
      "\n",
      "See the caveats in the documentation: https://pandas.pydata.org/pandas-docs/stable/user_guide/indexing.html#returning-a-view-versus-a-copy\n",
      "  df_nega['pronunciation'] = [extract_yomi(word) for word in lis]\n"
     ]
    },
    {
     "data": {
      "text/html": [
       "<div>\n",
       "<style scoped>\n",
       "    .dataframe tbody tr th:only-of-type {\n",
       "        vertical-align: middle;\n",
       "    }\n",
       "\n",
       "    .dataframe tbody tr th {\n",
       "        vertical-align: top;\n",
       "    }\n",
       "\n",
       "    .dataframe thead th {\n",
       "        text-align: right;\n",
       "    }\n",
       "</style>\n",
       "<table border=\"1\" class=\"dataframe\">\n",
       "  <thead>\n",
       "    <tr style=\"text-align: right;\">\n",
       "      <th></th>\n",
       "      <th>word</th>\n",
       "      <th>polarity</th>\n",
       "      <th>temp1</th>\n",
       "      <th>pronunciation</th>\n",
       "    </tr>\n",
       "  </thead>\n",
       "  <tbody>\n",
       "    <tr>\n",
       "      <th>46</th>\n",
       "      <td>２次感染</td>\n",
       "      <td>n</td>\n",
       "      <td>〜する（出来事）</td>\n",
       "      <td>２ジカンセン</td>\n",
       "    </tr>\n",
       "    <tr>\n",
       "      <th>47</th>\n",
       "      <td>２失点</td>\n",
       "      <td>n</td>\n",
       "      <td>〜する（出来事）</td>\n",
       "      <td>２シッテン</td>\n",
       "    </tr>\n",
       "    <tr>\n",
       "      <th>68</th>\n",
       "      <td>３連敗</td>\n",
       "      <td>n</td>\n",
       "      <td>〜する（出来事）</td>\n",
       "      <td>３レンパイ</td>\n",
       "    </tr>\n",
       "    <tr>\n",
       "      <th>88</th>\n",
       "      <td>ＡＩＤＳ</td>\n",
       "      <td>n</td>\n",
       "      <td>〜である・になる（状態）客観</td>\n",
       "      <td>エイズ</td>\n",
       "    </tr>\n",
       "    <tr>\n",
       "      <th>91</th>\n",
       "      <td>Ａ型肝炎</td>\n",
       "      <td>n</td>\n",
       "      <td>〜である・になる（状態）客観</td>\n",
       "      <td>Ａガタカンエン</td>\n",
       "    </tr>\n",
       "    <tr>\n",
       "      <th>...</th>\n",
       "      <td>...</td>\n",
       "      <td>...</td>\n",
       "      <td>...</td>\n",
       "      <td>...</td>\n",
       "    </tr>\n",
       "    <tr>\n",
       "      <th>13304</th>\n",
       "      <td>頽廃</td>\n",
       "      <td>n</td>\n",
       "      <td>〜する（出来事）</td>\n",
       "      <td>タイハイ</td>\n",
       "    </tr>\n",
       "    <tr>\n",
       "      <th>13305</th>\n",
       "      <td>顰蹙</td>\n",
       "      <td>n</td>\n",
       "      <td>〜する（行為）</td>\n",
       "      <td>ヒンシュク</td>\n",
       "    </tr>\n",
       "    <tr>\n",
       "      <th>13306</th>\n",
       "      <td>騙り</td>\n",
       "      <td>n</td>\n",
       "      <td>〜がある・高まる（存在・性質）</td>\n",
       "      <td>カタリ</td>\n",
       "    </tr>\n",
       "    <tr>\n",
       "      <th>13308</th>\n",
       "      <td>髀肉の嘆</td>\n",
       "      <td>n</td>\n",
       "      <td>〜である・になる（評価・感情）主観</td>\n",
       "      <td>ヒニクノタン</td>\n",
       "    </tr>\n",
       "    <tr>\n",
       "      <th>13310</th>\n",
       "      <td>魑魅魍魎</td>\n",
       "      <td>n</td>\n",
       "      <td>〜である・になる（状態）客観</td>\n",
       "      <td>チミモーリョー</td>\n",
       "    </tr>\n",
       "  </tbody>\n",
       "</table>\n",
       "<p>4958 rows × 4 columns</p>\n",
       "</div>"
      ],
      "text/plain": [
       "       word polarity              temp1 pronunciation\n",
       "46     ２次感染        n           〜する（出来事）        ２ジカンセン\n",
       "47      ２失点        n           〜する（出来事）         ２シッテン\n",
       "68      ３連敗        n           〜する（出来事）         ３レンパイ\n",
       "88     ＡＩＤＳ        n     〜である・になる（状態）客観           エイズ\n",
       "91     Ａ型肝炎        n     〜である・になる（状態）客観       Ａガタカンエン\n",
       "...     ...      ...                ...           ...\n",
       "13304    頽廃        n           〜する（出来事）          タイハイ\n",
       "13305    顰蹙        n            〜する（行為）         ヒンシュク\n",
       "13306    騙り        n    〜がある・高まる（存在・性質）           カタリ\n",
       "13308  髀肉の嘆        n  〜である・になる（評価・感情）主観        ヒニクノタン\n",
       "13310  魑魅魍魎        n     〜である・になる（状態）客観       チミモーリョー\n",
       "\n",
       "[4958 rows x 4 columns]"
      ]
     },
     "execution_count": 19,
     "metadata": {},
     "output_type": "execute_result"
    }
   ],
   "source": [
    "df_nega['pronunciation'] = [extract_yomi(word) for word in lis]\n",
    "df_nega"
   ]
  },
  {
   "cell_type": "code",
   "execution_count": null,
   "metadata": {},
   "outputs": [],
   "source": []
  }
 ],
 "metadata": {
  "kernelspec": {
   "display_name": "Python 3",
   "language": "python",
   "name": "python3"
  },
  "language_info": {
   "codemirror_mode": {
    "name": "ipython",
    "version": 3
   },
   "file_extension": ".py",
   "mimetype": "text/x-python",
   "name": "python",
   "nbconvert_exporter": "python",
   "pygments_lexer": "ipython3",
   "version": "3.8.5"
  }
 },
 "nbformat": 4,
 "nbformat_minor": 4
}
