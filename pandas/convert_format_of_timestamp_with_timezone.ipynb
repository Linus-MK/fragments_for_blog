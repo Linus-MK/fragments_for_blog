{
 "cells": [
  {
   "cell_type": "markdown",
   "metadata": {},
   "source": [
    "### 2020-07-27T02:12:40Z という形式で出力する方法\n",
    "### pandasの時系列カラムの時刻を特定の書式文字列に変換する方法\n",
    "\n",
    "最近、このような状況が発生した。\n",
    "\n",
    "* データ分析用にダミーの簡単なデータを作る必要がある\n",
    "* そのデータは時刻カラムを含む\n",
    "* 時刻カラムは、タイムゾーンが設定されていて、UTCである\n",
    "* 実際のデータの表示書式はYYYY-MM-DDThh:mm:ssZ の形式 （例 2020-07-27T02:12:40Z）であるため、ダミーデータについても同じ書式で作成したい\n",
    "* どうすれば実現できるか?\n",
    "\n",
    "注意：以下の説明で、「time zone naive = タイムゾーンが設定されていない」「time zone aware = タイムゾーンが設定されている」という意味である。\n",
    "\n",
    "---\n",
    "\n",
    "https://ufirst.jp/memo/2020/07/27/post-2638/  \n",
    "2020-07-27T02:12:40Z  という時刻の形式がある。\n",
    "\n",
    "時刻を表現するときの国際的な規格として定められている、ISOもしくはRFCに従った形式である。  \n",
    "ISO規格だと ISO 8601  \n",
    "RFC規格だとRFC 3339  \n",
    "らしい。（ほぼ同じと見ていいらしい。Wikipediaの情報だけど）\n",
    "\n",
    "pandasの時刻データをこの形で作る方法を調べた。  "
   ]
  },
  {
   "cell_type": "code",
   "execution_count": 1,
   "metadata": {},
   "outputs": [],
   "source": [
    "import pandas as pd\n",
    "import datetime\n",
    "# pd.options.display.notebook_repr_html = False  # jupyter notebook上での出力形式を制御するために書いています。無くても動きます。"
   ]
  },
  {
   "cell_type": "code",
   "execution_count": 2,
   "metadata": {},
   "outputs": [
    {
     "name": "stdout",
     "output_type": "stream",
     "text": [
      "1.1.2\n"
     ]
    }
   ],
   "source": [
    "# 動作環境の確認\n",
    "print(pd.__version__)"
   ]
  },
  {
   "cell_type": "markdown",
   "metadata": {},
   "source": [
    "時刻の列として、適当な時刻を3つほど作成する。  datetime オブエジェクトを作り、日付と時までを適当に埋めよう。"
   ]
  },
  {
   "cell_type": "code",
   "execution_count": 3,
   "metadata": {},
   "outputs": [],
   "source": [
    "datetime_list = [\n",
    "    datetime.datetime(2022, 1, 2, 3, 0),\n",
    "    datetime.datetime(2022, 2, 3, 4, 0),\n",
    "    datetime.datetime(2022, 3, 4, 5, 0),\n",
    "]"
   ]
  },
  {
   "cell_type": "code",
   "execution_count": 4,
   "metadata": {},
   "outputs": [],
   "source": [
    "val_list = [10, 30, 20]"
   ]
  },
  {
   "cell_type": "code",
   "execution_count": 5,
   "metadata": {},
   "outputs": [],
   "source": [
    "df_datetime = pd.DataFrame({\n",
    "    'datetime'    : datetime_list,\n",
    "    'val' : val_list\n",
    "})"
   ]
  },
  {
   "cell_type": "code",
   "execution_count": 6,
   "metadata": {},
   "outputs": [
    {
     "data": {
      "text/html": [
       "<div>\n",
       "<style scoped>\n",
       "    .dataframe tbody tr th:only-of-type {\n",
       "        vertical-align: middle;\n",
       "    }\n",
       "\n",
       "    .dataframe tbody tr th {\n",
       "        vertical-align: top;\n",
       "    }\n",
       "\n",
       "    .dataframe thead th {\n",
       "        text-align: right;\n",
       "    }\n",
       "</style>\n",
       "<table border=\"1\" class=\"dataframe\">\n",
       "  <thead>\n",
       "    <tr style=\"text-align: right;\">\n",
       "      <th></th>\n",
       "      <th>datetime</th>\n",
       "      <th>val</th>\n",
       "    </tr>\n",
       "  </thead>\n",
       "  <tbody>\n",
       "    <tr>\n",
       "      <th>0</th>\n",
       "      <td>2022-01-02 03:00:00</td>\n",
       "      <td>10</td>\n",
       "    </tr>\n",
       "    <tr>\n",
       "      <th>1</th>\n",
       "      <td>2022-02-03 04:00:00</td>\n",
       "      <td>30</td>\n",
       "    </tr>\n",
       "    <tr>\n",
       "      <th>2</th>\n",
       "      <td>2022-03-04 05:00:00</td>\n",
       "      <td>20</td>\n",
       "    </tr>\n",
       "  </tbody>\n",
       "</table>\n",
       "</div>"
      ],
      "text/plain": [
       "             datetime  val\n",
       "0 2022-01-02 03:00:00   10\n",
       "1 2022-02-03 04:00:00   30\n",
       "2 2022-03-04 05:00:00   20"
      ]
     },
     "execution_count": 6,
     "metadata": {},
     "output_type": "execute_result"
    }
   ],
   "source": [
    "df_datetime"
   ]
  },
  {
   "cell_type": "markdown",
   "metadata": {},
   "source": [
    "## pandasの時刻カラムのタイムゾーン有無を調べる\n",
    "\n",
    "自分の理解を整理するために、Q&Aの形式で書いていく。\n",
    "\n",
    "Q1. このDataFrameのdatetimeカラムは、タイムゾーンがある時刻か、ない時刻か?  \n",
    "A1. タイムゾーンがない時刻である。\n",
    "\n",
    "Q2. タイムゾーンがないということはどうして分かるのか?  \n",
    "A2. 以下2つの方法がある。\n",
    "\n",
    "1つ目の方法は、カラムを調べることである。Series（カラム）にタイムゾーンがないことは、Seriesのdtypeを見れば分かる。\n",
    "\n",
    "> https://pandas.pydata.org/docs/user_guide/timeseries.html#time-zone-series-operations  \n",
    "> A Series with time zone naive values is represented with a dtype of datetime64[ns].  \n",
    "> A Series with a time zone aware values is represented with a dtype of datetime64[ns, tz] where tz is the time zone.\n",
    "\n",
    "拙訳：タイムゾーンが設定されていない値を持つSeriesは、`datetime64[ns]`というdtypeで表される。  \n",
    "タイムゾーンが設定されている値を持つSeriesは、`datetime64[ns, tz]`というdtypeで表される。ここで、tzはタイムゾーンである。"
   ]
  },
  {
   "cell_type": "code",
   "execution_count": 11,
   "metadata": {},
   "outputs": [
    {
     "data": {
      "text/plain": [
       "datetime    datetime64[ns]\n",
       "val                  int64\n",
       "dtype: object"
      ]
     },
     "execution_count": 11,
     "metadata": {},
     "output_type": "execute_result"
    }
   ],
   "source": [
    "df_datetime.dtypes"
   ]
  },
  {
   "cell_type": "markdown",
   "metadata": {},
   "source": [
    "2つ目の方法は、入っている時刻データを調べることである。\n",
    "\n",
    "> https://pandas.pydata.org/docs/user_guide/timeseries.html#time-zone-handling  \n",
    "> By default, pandas objects are time zone unaware:\n",
    "\n",
    "拙訳：デフォルトでは、pandasのオブジェクトにはタイムゾーンが設定されていない。\n",
    "\n",
    "この公式ドキュメントによれば、tzという属性がNoneならタイムゾーンが設定されてないようだ。見てみよう。"
   ]
  },
  {
   "cell_type": "code",
   "execution_count": 12,
   "metadata": {},
   "outputs": [
    {
     "data": {
      "text/plain": [
       "Timestamp('2022-01-02 03:00:00')"
      ]
     },
     "execution_count": 12,
     "metadata": {},
     "output_type": "execute_result"
    }
   ],
   "source": [
    "datetime1 = df_datetime.loc[0, 'datetime']\n",
    "datetime1"
   ]
  },
  {
   "cell_type": "code",
   "execution_count": 13,
   "metadata": {},
   "outputs": [
    {
     "name": "stdout",
     "output_type": "stream",
     "text": [
      "None\n"
     ]
    }
   ],
   "source": [
    "# 注：datetime1.tzと単に書くと、jupyter notebook上で結果のNoneが表示されないので、明示的にprintをつけてNoneを表示させている。\n",
    "print(datetime1.tz)"
   ]
  },
  {
   "cell_type": "markdown",
   "metadata": {},
   "source": [
    "どちらの方法にせよ、datetimeカラムにはタイムゾーンが設定されていないことが分かった。\n",
    "\n",
    "さて、欲しいデータはUTCなので、タイムゾーンを設定しよう。"
   ]
  },
  {
   "cell_type": "markdown",
   "metadata": {},
   "source": [
    "## pandasの時刻カラムにタイムゾーンを設定する\n",
    "\n",
    "Q3. 下記の操作はなんでエラーになるの?\n",
    "\n",
    "A3. Series.tz_localize()はindexの時刻をローカライズ処理するため。Seriesの値をローカライズするには、Series.dt.tz_localize()を使う。\n",
    "\n",
    "> https://pandas.pydata.org/docs/reference/api/pandas.Series.tz_localize.html\n",
    "> Localize tz-naive index of a Series or DataFrame to target time zone.  \n",
    "> This operation localizes the Index. To localize the values in a timezone-naive Series, use Series.dt.tz_localize().\n",
    "\n",
    "拙訳：SeriesまたはDataFrameの、タイムゾーンの設定されていないindexを指定されたタイムゾーンにローカライズする。  \n",
    "この操作はインデックスをローカライズする。タイムゾーンの設定されていないSeriesの値をローカライズするには、`Series.dt.tz_localize()`を使うこと。\n",
    "\n",
    "……と公式ドキュメントに書いてあるとおりで、Seriesに対して直接`tz_localize`を実行しようとindexの時刻を変更しようとする。  \n",
    "今回はindexが時刻ではなくて数値なので「（indexの時刻を変更しようとしたら）indexが時刻じゃないんだけど」とエラーが出ている。"
   ]
  },
  {
   "cell_type": "code",
   "execution_count": 14,
   "metadata": {},
   "outputs": [
    {
     "ename": "TypeError",
     "evalue": "index is not a valid DatetimeIndex or PeriodIndex",
     "output_type": "error",
     "traceback": [
      "\u001b[0;31m---------------------------------------------------------------------------\u001b[0m",
      "\u001b[0;31mTypeError\u001b[0m                                 Traceback (most recent call last)",
      "\u001b[0;32m<ipython-input-14-d343d953d675>\u001b[0m in \u001b[0;36m<module>\u001b[0;34m\u001b[0m\n\u001b[0;32m----> 1\u001b[0;31m \u001b[0mdf_datetime\u001b[0m\u001b[0;34m[\u001b[0m\u001b[0;34m'datetime_utc'\u001b[0m\u001b[0;34m]\u001b[0m \u001b[0;34m=\u001b[0m \u001b[0mdf_datetime\u001b[0m\u001b[0;34m[\u001b[0m\u001b[0;34m'datetime'\u001b[0m\u001b[0;34m]\u001b[0m\u001b[0;34m.\u001b[0m\u001b[0mtz_localize\u001b[0m\u001b[0;34m(\u001b[0m\u001b[0mtz\u001b[0m\u001b[0;34m=\u001b[0m\u001b[0;34m'UTC'\u001b[0m\u001b[0;34m)\u001b[0m\u001b[0;34m\u001b[0m\u001b[0;34m\u001b[0m\u001b[0m\n\u001b[0m",
      "\u001b[0;32m/usr/local/lib/python3.8/site-packages/pandas/core/generic.py\u001b[0m in \u001b[0;36mtz_localize\u001b[0;34m(self, tz, axis, level, copy, ambiguous, nonexistent)\u001b[0m\n\u001b[1;32m   9643\u001b[0m             \u001b[0;32mif\u001b[0m \u001b[0mlevel\u001b[0m \u001b[0;32mnot\u001b[0m \u001b[0;32min\u001b[0m \u001b[0;34m(\u001b[0m\u001b[0;32mNone\u001b[0m\u001b[0;34m,\u001b[0m \u001b[0;36m0\u001b[0m\u001b[0;34m,\u001b[0m \u001b[0max\u001b[0m\u001b[0;34m.\u001b[0m\u001b[0mname\u001b[0m\u001b[0;34m)\u001b[0m\u001b[0;34m:\u001b[0m\u001b[0;34m\u001b[0m\u001b[0;34m\u001b[0m\u001b[0m\n\u001b[1;32m   9644\u001b[0m                 \u001b[0;32mraise\u001b[0m \u001b[0mValueError\u001b[0m\u001b[0;34m(\u001b[0m\u001b[0;34mf\"The level {level} is not valid\"\u001b[0m\u001b[0;34m)\u001b[0m\u001b[0;34m\u001b[0m\u001b[0;34m\u001b[0m\u001b[0m\n\u001b[0;32m-> 9645\u001b[0;31m             \u001b[0max\u001b[0m \u001b[0;34m=\u001b[0m \u001b[0m_tz_localize\u001b[0m\u001b[0;34m(\u001b[0m\u001b[0max\u001b[0m\u001b[0;34m,\u001b[0m \u001b[0mtz\u001b[0m\u001b[0;34m,\u001b[0m \u001b[0mambiguous\u001b[0m\u001b[0;34m,\u001b[0m \u001b[0mnonexistent\u001b[0m\u001b[0;34m)\u001b[0m\u001b[0;34m\u001b[0m\u001b[0;34m\u001b[0m\u001b[0m\n\u001b[0m\u001b[1;32m   9646\u001b[0m \u001b[0;34m\u001b[0m\u001b[0m\n\u001b[1;32m   9647\u001b[0m         \u001b[0mresult\u001b[0m \u001b[0;34m=\u001b[0m \u001b[0mself\u001b[0m\u001b[0;34m.\u001b[0m\u001b[0mcopy\u001b[0m\u001b[0;34m(\u001b[0m\u001b[0mdeep\u001b[0m\u001b[0;34m=\u001b[0m\u001b[0mcopy\u001b[0m\u001b[0;34m)\u001b[0m\u001b[0;34m\u001b[0m\u001b[0;34m\u001b[0m\u001b[0m\n",
      "\u001b[0;32m/usr/local/lib/python3.8/site-packages/pandas/core/generic.py\u001b[0m in \u001b[0;36m_tz_localize\u001b[0;34m(ax, tz, ambiguous, nonexistent)\u001b[0m\n\u001b[1;32m   9625\u001b[0m                 \u001b[0;32mif\u001b[0m \u001b[0mlen\u001b[0m\u001b[0;34m(\u001b[0m\u001b[0max\u001b[0m\u001b[0;34m)\u001b[0m \u001b[0;34m>\u001b[0m \u001b[0;36m0\u001b[0m\u001b[0;34m:\u001b[0m\u001b[0;34m\u001b[0m\u001b[0;34m\u001b[0m\u001b[0m\n\u001b[1;32m   9626\u001b[0m                     \u001b[0max_name\u001b[0m \u001b[0;34m=\u001b[0m \u001b[0mself\u001b[0m\u001b[0;34m.\u001b[0m\u001b[0m_get_axis_name\u001b[0m\u001b[0;34m(\u001b[0m\u001b[0maxis\u001b[0m\u001b[0;34m)\u001b[0m\u001b[0;34m\u001b[0m\u001b[0;34m\u001b[0m\u001b[0m\n\u001b[0;32m-> 9627\u001b[0;31m                     raise TypeError(\n\u001b[0m\u001b[1;32m   9628\u001b[0m                         \u001b[0;34mf\"{ax_name} is not a valid DatetimeIndex or PeriodIndex\"\u001b[0m\u001b[0;34m\u001b[0m\u001b[0;34m\u001b[0m\u001b[0m\n\u001b[1;32m   9629\u001b[0m                     )\n",
      "\u001b[0;31mTypeError\u001b[0m: index is not a valid DatetimeIndex or PeriodIndex"
     ]
    }
   ],
   "source": [
    "df_datetime['datetime_utc'] = df_datetime['datetime'].tz_localize(tz='UTC')"
   ]
  },
  {
   "cell_type": "code",
   "execution_count": 15,
   "metadata": {},
   "outputs": [],
   "source": [
    "# https://pandas.pydata.org/docs/reference/api/pandas.Series.dt.tz_localize.html#pandas.Series.dt.tz_localize\n",
    "df_datetime['datetime_utc'] = df_datetime['datetime'].dt.tz_localize(tz='UTC')"
   ]
  },
  {
   "cell_type": "code",
   "execution_count": 16,
   "metadata": {},
   "outputs": [
    {
     "data": {
      "text/html": [
       "<div>\n",
       "<style scoped>\n",
       "    .dataframe tbody tr th:only-of-type {\n",
       "        vertical-align: middle;\n",
       "    }\n",
       "\n",
       "    .dataframe tbody tr th {\n",
       "        vertical-align: top;\n",
       "    }\n",
       "\n",
       "    .dataframe thead th {\n",
       "        text-align: right;\n",
       "    }\n",
       "</style>\n",
       "<table border=\"1\" class=\"dataframe\">\n",
       "  <thead>\n",
       "    <tr style=\"text-align: right;\">\n",
       "      <th></th>\n",
       "      <th>datetime</th>\n",
       "      <th>val</th>\n",
       "      <th>datetime_utc</th>\n",
       "    </tr>\n",
       "  </thead>\n",
       "  <tbody>\n",
       "    <tr>\n",
       "      <th>0</th>\n",
       "      <td>2022-01-02 03:00:00</td>\n",
       "      <td>10</td>\n",
       "      <td>2022-01-02 03:00:00+00:00</td>\n",
       "    </tr>\n",
       "    <tr>\n",
       "      <th>1</th>\n",
       "      <td>2022-02-03 04:00:00</td>\n",
       "      <td>30</td>\n",
       "      <td>2022-02-03 04:00:00+00:00</td>\n",
       "    </tr>\n",
       "    <tr>\n",
       "      <th>2</th>\n",
       "      <td>2022-03-04 05:00:00</td>\n",
       "      <td>20</td>\n",
       "      <td>2022-03-04 05:00:00+00:00</td>\n",
       "    </tr>\n",
       "  </tbody>\n",
       "</table>\n",
       "</div>"
      ],
      "text/plain": [
       "             datetime  val              datetime_utc\n",
       "0 2022-01-02 03:00:00   10 2022-01-02 03:00:00+00:00\n",
       "1 2022-02-03 04:00:00   30 2022-02-03 04:00:00+00:00\n",
       "2 2022-03-04 05:00:00   20 2022-03-04 05:00:00+00:00"
      ]
     },
     "execution_count": 16,
     "metadata": {},
     "output_type": "execute_result"
    }
   ],
   "source": [
    "df_datetime"
   ]
  },
  {
   "cell_type": "markdown",
   "metadata": {},
   "source": [
    "Q4. dtって何?\n",
    "\n",
    "A4. dtは時刻形式のSeriesに対するアクセサ（accessor）である。  \n",
    "Series.dt.xxx  という形で、時刻情報の一部を抽出したり、今回のtz_localizeのように時刻関係のメソッドを使ったりできる。\n",
    "\n",
    "Series.dt.xxx の一覧は https://pandas.pydata.org/docs/reference/series.html#datetimelike-properties  \n",
    "dtについては https://pandas.pydata.org/docs/user_guide/basics.html#dt-accessor\n",
    "\n",
    "\n",
    "UTCに設定したら希望の書式になってくれるかと思ったが、そうではなかった。\n",
    "\n",
    "2022-01-02 03:00:00+00:00 となってしまった。  \n",
    "2022-01-02T03:00:00Z という形式が欲しいんだけど。"
   ]
  },
  {
   "cell_type": "markdown",
   "metadata": {},
   "source": [
    "Q5. 日付と時刻の間にあるTはどういう意味? 半角空白の場合と何が違うの?  \n",
    "A5. ISO 8601では日付と時刻の間にTという文字を書く必要がある。（半角空白にすることは認められていない）  \n",
    "Q6. 時刻の末尾にあるZはどういう意味? +00:00と何が違うの?  \n",
    "A6. Zと+00:00 はどちらもISO 8601で認められた表記法で、タイムゾーンがUTCであることを示す。\n"
   ]
  },
  {
   "cell_type": "code",
   "execution_count": 18,
   "metadata": {},
   "outputs": [
    {
     "data": {
      "text/plain": [
       "datetime             datetime64[ns]\n",
       "val                           int64\n",
       "datetime_utc    datetime64[ns, UTC]\n",
       "dtype: object"
      ]
     },
     "execution_count": 18,
     "metadata": {},
     "output_type": "execute_result"
    }
   ],
   "source": [
    "df_datetime.dtypes"
   ]
  },
  {
   "cell_type": "code",
   "execution_count": 19,
   "metadata": {},
   "outputs": [
    {
     "name": "stdout",
     "output_type": "stream",
     "text": [
      ",datetime,val,datetime_utc\r\n",
      "0,2022-01-02 03:00:00,10,2022-01-02 03:00:00+00:00\r\n",
      "1,2022-02-03 04:00:00,30,2022-02-03 04:00:00+00:00\r\n",
      "2,2022-03-04 05:00:00,20,2022-03-04 05:00:00+00:00\r\n"
     ]
    }
   ],
   "source": [
    "# で、このままcsvに出力しても希望通りの形式にはならない。\n",
    "df_datetime.to_csv(\"temp1.csv\")\n",
    "\n",
    "# csvの中身を表示する\n",
    "! cat temp1.csv"
   ]
  },
  {
   "cell_type": "markdown",
   "metadata": {},
   "source": [
    "## 時刻が特定の書式になっているCSVを作る2つの方法\n",
    "\n",
    "3つの方法が考えられる。\n",
    "\n",
    "* 時刻のデータ（dtype　`datetime64[ns, UTC]`）のまま、表示方法を変更する。\n",
    "* 時刻から希望する形式の文字列に変換する。\n",
    "* 時刻のデータをcsvに保存する際に、時刻形式を変更する。\n",
    "\n",
    "Q7 時刻のデータ（dtype　`datetime64[ns, UTC]`）のまま、表示方法を変更する方法はあるのか?  \n",
    "A7 多分ないと思う。あったら教えて下さい。\n",
    "\n",
    "Q 時刻を表示する形式を変更する方法はあるのか?  \n",
    "A だけどcsvに出力するときに 形式を変更する方法はあるよ\n",
    "\n",
    "Q8 ではどうすれば所望の文字列を得られるのか?  \n",
    "A strftimeを使って文字列形式を指定し、変換しよう\n",
    "\n",
    "Q9 typeはどうなってるのか?  \n",
    "A 文字列、objectです"
   ]
  },
  {
   "cell_type": "code",
   "execution_count": 20,
   "metadata": {},
   "outputs": [
    {
     "name": "stdout",
     "output_type": "stream",
     "text": [
      ",datetime,val,datetime_utc\r\n",
      "0,2022/01/02T03:00:00Z,10,2022/01/02T03:00:00Z\r\n",
      "1,2022/02/03T04:00:00Z,30,2022/02/03T04:00:00Z\r\n",
      "2,2022/03/04T05:00:00Z,20,2022/03/04T05:00:00Z\r\n"
     ]
    }
   ],
   "source": [
    "# to_csvの引数にdate_formatを指定すると、csvに書き出すときに時刻を希望の書式にすることができる\n",
    "df_datetime.to_csv(\"temp2.csv\", date_format=\"%Y/%m/%dT%H:%M:%SZ\")\n",
    "\n",
    "# csvの中身を表示する\n",
    "# date_format引数はdatetime,datetime_utc の両方の列に適用されている\n",
    "! cat temp2.csv"
   ]
  },
  {
   "cell_type": "code",
   "execution_count": null,
   "metadata": {},
   "outputs": [],
   "source": []
  },
  {
   "cell_type": "code",
   "execution_count": 21,
   "metadata": {},
   "outputs": [
    {
     "data": {
      "text/plain": [
       "0    2022/01/02T03:00:00Z\n",
       "1    2022/02/03T04:00:00Z\n",
       "2    2022/03/04T05:00:00Z\n",
       "Name: datetime_utc, dtype: object"
      ]
     },
     "execution_count": 21,
     "metadata": {},
     "output_type": "execute_result"
    }
   ],
   "source": [
    "df_datetime['datetime_utc'].dt.strftime(\"%Y/%m/%dT%H:%M:%SZ\")"
   ]
  },
  {
   "cell_type": "code",
   "execution_count": 22,
   "metadata": {},
   "outputs": [
    {
     "ename": "AttributeError",
     "evalue": "'numpy.ndarray' object has no attribute 'strftime'",
     "output_type": "error",
     "traceback": [
      "\u001b[0;31m---------------------------------------------------------------------------\u001b[0m",
      "\u001b[0;31mAttributeError\u001b[0m                            Traceback (most recent call last)",
      "\u001b[0;32m<ipython-input-22-b9ee292b4dc0>\u001b[0m in \u001b[0;36m<module>\u001b[0;34m\u001b[0m\n\u001b[0;32m----> 1\u001b[0;31m \u001b[0mdf_datetime\u001b[0m\u001b[0;34m[\u001b[0m\u001b[0;34m'datetime_utc'\u001b[0m\u001b[0;34m]\u001b[0m\u001b[0;34m.\u001b[0m\u001b[0mdt\u001b[0m\u001b[0;34m.\u001b[0m\u001b[0mto_pydatetime\u001b[0m\u001b[0;34m(\u001b[0m\u001b[0;34m)\u001b[0m\u001b[0;34m.\u001b[0m\u001b[0mstrftime\u001b[0m\u001b[0;34m(\u001b[0m\u001b[0;34m\"%Y/%m/%dT%H:%M:%SZ\"\u001b[0m\u001b[0;34m)\u001b[0m\u001b[0;34m\u001b[0m\u001b[0;34m\u001b[0m\u001b[0m\n\u001b[0m",
      "\u001b[0;31mAttributeError\u001b[0m: 'numpy.ndarray' object has no attribute 'strftime'"
     ]
    }
   ],
   "source": [
    "df_datetime['datetime_utc'].dt.to_pydatetime().strftime(\"%Y/%m/%dT%H:%M:%SZ\")"
   ]
  },
  {
   "cell_type": "markdown",
   "metadata": {},
   "source": [
    "最初は訳わからなくてこれで作ってた。"
   ]
  },
  {
   "cell_type": "code",
   "execution_count": 23,
   "metadata": {},
   "outputs": [
    {
     "data": {
      "text/plain": [
       "0    2022/01/02T03:00:00Z\n",
       "1    2022/02/03T04:00:00Z\n",
       "2    2022/03/04T05:00:00Z\n",
       "Name: datetime_utc, dtype: object"
      ]
     },
     "execution_count": 23,
     "metadata": {},
     "output_type": "execute_result"
    }
   ],
   "source": [
    "df_datetime['datetime_utc'].apply(lambda t: t.to_pydatetime().strftime(\"%Y/%m/%dT%H:%M:%SZ\"))"
   ]
  },
  {
   "cell_type": "markdown",
   "metadata": {},
   "source": [
    "……これ実は、真に「タイムゾーン情報」としてZという文字を付加しているわけではないから、タイムゾーンを設定しなくても指定書式でcsvが作れるな。\n",
    "まぁ、試行錯誤の結果ということで、このままにしておきます……。\n",
    "\n",
    "---\n",
    "\n",
    "dt.xxx で使えるものが意外と多かった。\n",
    "\n",
    "python標準のdatetimeと比べてみると、\n",
    "df_datetime['datetime_utc'].dt.hour　、と同じ\n"
   ]
  },
  {
   "cell_type": "code",
   "execution_count": 24,
   "metadata": {},
   "outputs": [],
   "source": [
    "python_dt = datetime.datetime(2022, 1, 2, 3, 0)"
   ]
  },
  {
   "cell_type": "code",
   "execution_count": 25,
   "metadata": {},
   "outputs": [
    {
     "data": {
      "text/plain": [
       "3"
      ]
     },
     "execution_count": 25,
     "metadata": {},
     "output_type": "execute_result"
    }
   ],
   "source": [
    "python_dt.hour"
   ]
  },
  {
   "cell_type": "code",
   "execution_count": 26,
   "metadata": {},
   "outputs": [
    {
     "data": {
      "text/plain": [
       "0    3\n",
       "1    4\n",
       "2    5\n",
       "Name: datetime_utc, dtype: int64"
      ]
     },
     "execution_count": 26,
     "metadata": {},
     "output_type": "execute_result"
    }
   ],
   "source": [
    "df_datetime['datetime_utc'].dt.hour"
   ]
  },
  {
   "cell_type": "markdown",
   "metadata": {},
   "source": [
    "こう見ると、「python_dt」と「df_datetime['datetime_utc'].dt」が対応している。"
   ]
  },
  {
   "cell_type": "code",
   "execution_count": 27,
   "metadata": {},
   "outputs": [
    {
     "data": {
      "text/plain": [
       "'2022/01/02T03:00:00Z'"
      ]
     },
     "execution_count": 27,
     "metadata": {},
     "output_type": "execute_result"
    }
   ],
   "source": [
    "python_dt.strftime(\"%Y/%m/%dT%H:%M:%SZ\")"
   ]
  },
  {
   "cell_type": "code",
   "execution_count": 28,
   "metadata": {},
   "outputs": [
    {
     "data": {
      "text/plain": [
       "0    2022/01/02T03:00:00Z\n",
       "1    2022/02/03T04:00:00Z\n",
       "2    2022/03/04T05:00:00Z\n",
       "Name: datetime_utc, dtype: object"
      ]
     },
     "execution_count": 28,
     "metadata": {},
     "output_type": "execute_result"
    }
   ],
   "source": [
    "df_datetime['datetime_utc'].dt.strftime(\"%Y/%m/%dT%H:%M:%SZ\")"
   ]
  },
  {
   "cell_type": "code",
   "execution_count": null,
   "metadata": {},
   "outputs": [],
   "source": []
  }
 ],
 "metadata": {
  "kernelspec": {
   "display_name": "Python 3",
   "language": "python",
   "name": "python3"
  },
  "language_info": {
   "codemirror_mode": {
    "name": "ipython",
    "version": 3
   },
   "file_extension": ".py",
   "mimetype": "text/x-python",
   "name": "python",
   "nbconvert_exporter": "python",
   "pygments_lexer": "ipython3",
   "version": "3.8.5"
  }
 },
 "nbformat": 4,
 "nbformat_minor": 4
}
